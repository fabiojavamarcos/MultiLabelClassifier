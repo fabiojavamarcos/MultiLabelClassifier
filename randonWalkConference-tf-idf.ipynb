{
 "cells": [
  {
   "cell_type": "code",
   "execution_count": 5,
   "metadata": {},
   "outputs": [
    {
     "data": {
      "text/plain": [
       "['nodeNumber', 'node', 'visits', 'paths']"
      ]
     },
     "execution_count": 5,
     "metadata": {},
     "output_type": "execute_result"
    }
   ],
   "source": [
    "import csv\n",
    "data_file = csv.DictReader(open(\"./visits/data/visits_Conference.owl_class_500.csv\", \"r\"))\n",
    "data_file.fieldnames\n"
   ]
  },
  {
   "cell_type": "code",
   "execution_count": 6,
   "metadata": {},
   "outputs": [
    {
     "data": {
      "text/plain": [
       "{'nodeNumber': [], 'node': [], 'visits': [], 'paths': []}"
      ]
     },
     "execution_count": 6,
     "metadata": {},
     "output_type": "execute_result"
    }
   ],
   "source": [
    "data = {}\n",
    "for column in data_file.fieldnames:\n",
    "    data[column] = []\n",
    "data\n"
   ]
  },
  {
   "cell_type": "code",
   "execution_count": 7,
   "metadata": {},
   "outputs": [
    {
     "data": {
      "text/plain": [
       "59"
      ]
     },
     "execution_count": 7,
     "metadata": {},
     "output_type": "execute_result"
    }
   ],
   "source": [
    "for row in data_file:\n",
    "    for column in data.keys():\n",
    "        data[column].append(row[column])\n",
    "\n",
    "len(data['node'])\n"
   ]
  },
  {
   "cell_type": "code",
   "execution_count": null,
   "metadata": {},
   "outputs": [],
   "source": []
  },
  {
   "cell_type": "code",
   "execution_count": 8,
   "metadata": {},
   "outputs": [
    {
     "data": {
      "text/plain": [
       "'9'"
      ]
     },
     "execution_count": 8,
     "metadata": {},
     "output_type": "execute_result"
    }
   ],
   "source": [
    "top_visits = max(data['visits'])\n",
    "top_visits"
   ]
  },
  {
   "cell_type": "code",
   "execution_count": null,
   "metadata": {},
   "outputs": [],
   "source": [
    "\n"
   ]
  },
  {
   "cell_type": "code",
   "execution_count": 9,
   "metadata": {},
   "outputs": [],
   "source": [
    "visits_int = []\n",
    "for visit in data['visits']:\n",
    "    visits_int.append(int(visit))"
   ]
  },
  {
   "cell_type": "code",
   "execution_count": 10,
   "metadata": {},
   "outputs": [
    {
     "data": {
      "text/plain": [
       "int"
      ]
     },
     "execution_count": 10,
     "metadata": {},
     "output_type": "execute_result"
    }
   ],
   "source": [
    "data['visits'] = visits_int\n",
    "type(data['visits'][0])"
   ]
  },
  {
   "cell_type": "code",
   "execution_count": null,
   "metadata": {},
   "outputs": [],
   "source": []
  },
  {
   "cell_type": "code",
   "execution_count": null,
   "metadata": {},
   "outputs": [],
   "source": []
  },
  {
   "cell_type": "code",
   "execution_count": 11,
   "metadata": {},
   "outputs": [
    {
     "data": {
      "text/plain": [
       "187"
      ]
     },
     "execution_count": 11,
     "metadata": {},
     "output_type": "execute_result"
    }
   ],
   "source": [
    "top_visits = max(data['visits'])\n",
    "top_visits\n"
   ]
  },
  {
   "cell_type": "code",
   "execution_count": null,
   "metadata": {},
   "outputs": [],
   "source": []
  },
  {
   "cell_type": "code",
   "execution_count": 12,
   "metadata": {},
   "outputs": [
    {
     "name": "stdout",
     "output_type": "stream",
     "text": [
      "22.8\n"
     ]
    }
   ],
   "source": [
    "# iniciaremos variáveis para nos ajudar no cálculo\n",
    "sum_visits = 0\n",
    "total_visits = 0\n",
    "\n",
    "for visit in data['visits']:\n",
    "    # temos idades não informadas! vamos nos certificar que estamos contando apenas\n",
    "    # pessoas que temos certeza de suas idades!\n",
    "    if visit != -1:\n",
    "        # incrementamos então a idade ao somatório de idades\n",
    "        sum_visits += visit\n",
    "        # e incrementamos 1 no total de idades\n",
    "        total_visits += 1\n",
    "\n",
    "# calculamos a média\n",
    "visits_mean = sum_visits / total_visits\n",
    "\n",
    "# arredondamos usando uma função built-in do Python\n",
    "print(round(visits_mean, 1))"
   ]
  },
  {
   "cell_type": "code",
   "execution_count": null,
   "metadata": {},
   "outputs": [],
   "source": []
  },
  {
   "cell_type": "code",
   "execution_count": 13,
   "metadata": {},
   "outputs": [
    {
     "name": "stdout",
     "output_type": "stream",
     "text": [
      "contei: Contribution_co-author\n",
      "0\n",
      "0\n",
      "contei: Conference_www\n",
      "1\n",
      "9\n",
      "contei: Active_conference_participant\n",
      "2\n",
      "10\n",
      "contei: Contribution_1th-author\n",
      "3\n",
      "9\n",
      "contei: Extended_abstract\n",
      "4\n",
      "18\n",
      "contei: Accepted_contribution\n",
      "5\n",
      "16\n",
      "contei: Conference_part\n",
      "6\n",
      "34\n",
      "contei: Track\n",
      "7\n",
      "8\n",
      "contei: Paper\n",
      "8\n",
      "8\n",
      "contei: Track-workshop_chair\n",
      "9\n",
      "11\n",
      "contei: Review_preference\n",
      "10\n",
      "8\n",
      "contei: Submitted_contribution\n",
      "11\n",
      "47\n",
      "contei: Invited_speaker\n",
      "12\n",
      "14\n",
      "contei: Reviewer\n",
      "13\n",
      "8\n",
      "contei: Committee\n",
      "14\n",
      "35\n",
      "contei: Chair\n",
      "15\n",
      "8\n",
      "contei: Review\n",
      "16\n",
      "4\n",
      "contei: Information_for_participants\n",
      "17\n",
      "5\n",
      "contei: Conference_applicant\n",
      "18\n",
      "40\n",
      "contei: Registeered_applicant\n",
      "19\n",
      "34\n",
      "contei: Rejected_contribution\n",
      "20\n",
      "13\n",
      "contei: Written_contribution\n",
      "21\n",
      "88\n",
      "contei: Early_paid_applicant\n",
      "22\n",
      "8\n",
      "contei: Conference_proceedings\n",
      "23\n",
      "5\n",
      "contei: Reviewed_contribution\n",
      "24\n",
      "37\n",
      "contei: Camera_ready_contribution\n",
      "25\n",
      "6\n",
      "contei: Conference_participant\n",
      "26\n",
      "22\n",
      "contei: Committee_member\n",
      "27\n",
      "32\n",
      "contei: Publisher\n",
      "28\n",
      "3\n",
      "contei: Review_expertise\n",
      "29\n",
      "10\n",
      "contei: Presentation\n",
      "30\n",
      "17\n",
      "contei: Conference_volume\n",
      "31\n",
      "5\n",
      "contei: Tutorial\n",
      "32\n",
      "8\n",
      "contei: Regular_author\n",
      "33\n",
      "16\n",
      "contei: Conference_contributor\n",
      "34\n",
      "43\n",
      "contei: Abstract\n",
      "35\n",
      "10\n",
      "contei: Conference_fees\n",
      "36\n",
      "4\n",
      "contei: Paid_applicant\n",
      "37\n",
      "25\n",
      "contei: Workshop\n",
      "38\n",
      "6\n",
      "contei: Call_for_participation\n",
      "39\n",
      "11\n",
      "contei: Person\n",
      "40\n",
      "163\n",
      "contei: Conference_contribution\n",
      "41\n",
      "123\n",
      "contei: Poster\n",
      "42\n",
      "6\n",
      "contei: Steering_committee\n",
      "43\n",
      "6\n",
      "contei: Co-chair\n",
      "44\n",
      "12\n",
      "contei: Program_committee\n",
      "45\n",
      "8\n",
      "contei: Organizing_committee\n",
      "46\n",
      "10\n",
      "contei: Conference\n",
      "47\n",
      "20\n",
      "contei: Important_dates\n",
      "48\n",
      "10\n",
      "contei: Conference_document\n",
      "49\n",
      "187\n",
      "contei: Organization\n",
      "50\n",
      "9\n",
      "contei: Invited_talk\n",
      "51\n",
      "7\n",
      "contei: Regular_contribution\n",
      "52\n",
      "33\n",
      "contei: Organizer\n",
      "53\n",
      "8\n",
      "contei: Topic\n",
      "54\n",
      "4\n",
      "contei: Late_paid_applicant\n",
      "55\n",
      "7\n",
      "contei: Passive_conference_participant\n",
      "56\n",
      "10\n",
      "contei: Call_for_paper\n",
      "57\n",
      "18\n",
      "contei: Conference_announcement\n",
      "58\n",
      "10\n",
      "1346\n",
      "59\n",
      "22.8135593220339\n"
     ]
    }
   ],
   "source": [
    "# iniciaremos variáveis para nos ajudar no cálculo\n",
    "sum_visits = 0\n",
    "total_visits = 0\n",
    "# list de visitas\n",
    "visits = data[\"visits\"]\n",
    "nodes_c = []\n",
    "visits_c = []\n",
    "data_conceitos = {\"node_c\" : [],\n",
    "                 \"visit_c\" : []}\n",
    "for idx, node in enumerate (data[\"node\"]):\n",
    "    # vamos varrer o dicionario de nós pegando apenas os nós de conceitos\n",
    "    if node.find(\"<\") == -1 and node.find(\"~\") == -1:\n",
    "        print(\"contei: \"+node)\n",
    "        \n",
    "        for i, visit in enumerate (visits):\n",
    "            if i == idx:\n",
    "                print ( i)\n",
    "                print (visit)\n",
    "                sum_visits += visit\n",
    "                # e incrementamos 1 no total de visitas\n",
    "                total_visits += 1\n",
    "                nodes_c.append(node)\n",
    "                visits_c.append(visit)\n",
    "                \n",
    "    else:\n",
    "        print(\"descartei--->\"+node)\n",
    "        print(data[\"visits\"][idx])\n",
    "\n",
    "data_conceitos[\"node_c\"] = nodes_c\n",
    "data_conceitos[\"visit_c\"] = visits_c\n",
    "\n",
    "# calculamos a média\n",
    "visits_mean = sum_visits / total_visits\n",
    "\n",
    "# arredondamos usando uma função built-in do Python\n",
    "#print(round(visits_mean, 1))\n",
    "print (sum_visits)\n",
    "print (total_visits)\n",
    "print (visits_mean)"
   ]
  },
  {
   "cell_type": "code",
   "execution_count": null,
   "metadata": {},
   "outputs": [],
   "source": []
  },
  {
   "cell_type": "code",
   "execution_count": null,
   "metadata": {},
   "outputs": [],
   "source": []
  },
  {
   "cell_type": "code",
   "execution_count": 14,
   "metadata": {},
   "outputs": [],
   "source": [
    "%matplotlib inline \n",
    "#comando para dizer pro Jupyter exibir os gráficos\n",
    "import seaborn as sns #pacote grafico que deixa as coisas mais bonitas :)\n"
   ]
  },
  {
   "cell_type": "code",
   "execution_count": 15,
   "metadata": {},
   "outputs": [
    {
     "data": {
      "text/plain": [
       "<matplotlib.axes._subplots.AxesSubplot at 0x1a1fa60950>"
      ]
     },
     "execution_count": 15,
     "metadata": {},
     "output_type": "execute_result"
    },
    {
     "data": {
      "image/png": "[encoded data removed]",
      "text/plain": [
       "<Figure size 432x288 with 1 Axes>"
      ]
     },
     "metadata": {
      "needs_background": "light"
     },
     "output_type": "display_data"
    }
   ],
   "source": [
    "sns.countplot(data[\"visits\"])"
   ]
  },
  {
   "cell_type": "code",
   "execution_count": null,
   "metadata": {},
   "outputs": [],
   "source": []
  },
  {
   "cell_type": "code",
   "execution_count": 16,
   "metadata": {},
   "outputs": [
    {
     "data": {
      "text/html": [
       "<div>\n",
       "<style scoped>\n",
       "    .dataframe tbody tr th:only-of-type {\n",
       "        vertical-align: middle;\n",
       "    }\n",
       "\n",
       "    .dataframe tbody tr th {\n",
       "        vertical-align: top;\n",
       "    }\n",
       "\n",
       "    .dataframe thead th {\n",
       "        text-align: right;\n",
       "    }\n",
       "</style>\n",
       "<table border=\"1\" class=\"dataframe\">\n",
       "  <thead>\n",
       "    <tr style=\"text-align: right;\">\n",
       "      <th></th>\n",
       "      <th>nodeNumber</th>\n",
       "      <th>node</th>\n",
       "      <th>visits</th>\n",
       "      <th>paths</th>\n",
       "    </tr>\n",
       "  </thead>\n",
       "  <tbody>\n",
       "    <tr>\n",
       "      <th>0</th>\n",
       "      <td>0</td>\n",
       "      <td>Contribution_co-author</td>\n",
       "      <td>0</td>\n",
       "      <td></td>\n",
       "    </tr>\n",
       "    <tr>\n",
       "      <th>1</th>\n",
       "      <td>1</td>\n",
       "      <td>Conference_www</td>\n",
       "      <td>9</td>\n",
       "      <td>Conference_www Conference_www Conference_www...</td>\n",
       "    </tr>\n",
       "    <tr>\n",
       "      <th>2</th>\n",
       "      <td>2</td>\n",
       "      <td>Active_conference_participant</td>\n",
       "      <td>10</td>\n",
       "      <td>Active_conference_participant Active_confere...</td>\n",
       "    </tr>\n",
       "    <tr>\n",
       "      <th>3</th>\n",
       "      <td>3</td>\n",
       "      <td>Contribution_1th-author</td>\n",
       "      <td>9</td>\n",
       "      <td>Contribution_1th-author Contribution_1th-aut...</td>\n",
       "    </tr>\n",
       "    <tr>\n",
       "      <th>4</th>\n",
       "      <td>4</td>\n",
       "      <td>Extended_abstract</td>\n",
       "      <td>18</td>\n",
       "      <td>Abstract Extended_abstract Abstract Extended...</td>\n",
       "    </tr>\n",
       "  </tbody>\n",
       "</table>\n",
       "</div>"
      ],
      "text/plain": [
       "   nodeNumber                           node  visits  \\\n",
       "0           0         Contribution_co-author       0   \n",
       "1           1                 Conference_www       9   \n",
       "2           2  Active_conference_participant      10   \n",
       "3           3        Contribution_1th-author       9   \n",
       "4           4              Extended_abstract      18   \n",
       "\n",
       "                                               paths  \n",
       "0                                                     \n",
       "1    Conference_www Conference_www Conference_www...  \n",
       "2    Active_conference_participant Active_confere...  \n",
       "3    Contribution_1th-author Contribution_1th-aut...  \n",
       "4    Abstract Extended_abstract Abstract Extended...  "
      ]
     },
     "execution_count": 16,
     "metadata": {},
     "output_type": "execute_result"
    }
   ],
   "source": [
    "import pandas as pd\n",
    "import matplotlib.pyplot as plt\n",
    "data_classes = pd.read_csv('./visits/data/visits_Conference.owl_class_500.csv', header = 0, sep=\",\")\n",
    "order = pd.read_csv('./visits/data/visits_Order_Conference.owl_class_500.csv', header = 0, sep=\",\")\n",
    "ant = pd.read_csv('./visits/data/visits_ant_Conference.owl_class_500.csv', header = 0, sep=\",\")\n",
    "data_classes.head()"
   ]
  },
  {
   "cell_type": "code",
   "execution_count": 17,
   "metadata": {},
   "outputs": [
    {
     "data": {
      "text/html": [
       "<div>\n",
       "<style scoped>\n",
       "    .dataframe tbody tr th:only-of-type {\n",
       "        vertical-align: middle;\n",
       "    }\n",
       "\n",
       "    .dataframe tbody tr th {\n",
       "        vertical-align: top;\n",
       "    }\n",
       "\n",
       "    .dataframe thead th {\n",
       "        text-align: right;\n",
       "    }\n",
       "</style>\n",
       "<table border=\"1\" class=\"dataframe\">\n",
       "  <thead>\n",
       "    <tr style=\"text-align: right;\">\n",
       "      <th></th>\n",
       "      <th>nodeId</th>\n",
       "      <th>nodeName</th>\n",
       "      <th>nodeType</th>\n",
       "      <th>nodeLevel</th>\n",
       "      <th>loop</th>\n",
       "      <th>hop</th>\n",
       "      <th>path</th>\n",
       "    </tr>\n",
       "  </thead>\n",
       "  <tbody>\n",
       "    <tr>\n",
       "      <th>0</th>\n",
       "      <td>35</td>\n",
       "      <td>Abstract</td>\n",
       "      <td>Class</td>\n",
       "      <td>-1</td>\n",
       "      <td>0</td>\n",
       "      <td>0</td>\n",
       "      <td>Abstract</td>\n",
       "    </tr>\n",
       "    <tr>\n",
       "      <th>1</th>\n",
       "      <td>4</td>\n",
       "      <td>Extended_abstract</td>\n",
       "      <td>Class</td>\n",
       "      <td>-1</td>\n",
       "      <td>0</td>\n",
       "      <td>1</td>\n",
       "      <td>Abstract Extended_abstract</td>\n",
       "    </tr>\n",
       "    <tr>\n",
       "      <th>2</th>\n",
       "      <td>52</td>\n",
       "      <td>Regular_contribution</td>\n",
       "      <td>Class</td>\n",
       "      <td>-1</td>\n",
       "      <td>0</td>\n",
       "      <td>2</td>\n",
       "      <td>Abstract Extended_abstract Regular_contribution</td>\n",
       "    </tr>\n",
       "    <tr>\n",
       "      <th>3</th>\n",
       "      <td>21</td>\n",
       "      <td>Written_contribution</td>\n",
       "      <td>Class</td>\n",
       "      <td>-1</td>\n",
       "      <td>0</td>\n",
       "      <td>3</td>\n",
       "      <td>Abstract Extended_abstract Regular_contributio...</td>\n",
       "    </tr>\n",
       "    <tr>\n",
       "      <th>4</th>\n",
       "      <td>41</td>\n",
       "      <td>Conference_contribution</td>\n",
       "      <td>Class</td>\n",
       "      <td>-1</td>\n",
       "      <td>0</td>\n",
       "      <td>4</td>\n",
       "      <td>Abstract Extended_abstract Regular_contributio...</td>\n",
       "    </tr>\n",
       "  </tbody>\n",
       "</table>\n",
       "</div>"
      ],
      "text/plain": [
       "   nodeId                 nodeName nodeType  nodeLevel  loop  hop  \\\n",
       "0      35                 Abstract    Class         -1     0    0   \n",
       "1       4        Extended_abstract    Class         -1     0    1   \n",
       "2      52     Regular_contribution    Class         -1     0    2   \n",
       "3      21     Written_contribution    Class         -1     0    3   \n",
       "4      41  Conference_contribution    Class         -1     0    4   \n",
       "\n",
       "                                                path  \n",
       "0                                           Abstract  \n",
       "1                         Abstract Extended_abstract  \n",
       "2    Abstract Extended_abstract Regular_contribution  \n",
       "3  Abstract Extended_abstract Regular_contributio...  \n",
       "4  Abstract Extended_abstract Regular_contributio...  "
      ]
     },
     "execution_count": 17,
     "metadata": {},
     "output_type": "execute_result"
    }
   ],
   "source": [
    "order.head()\n"
   ]
  },
  {
   "cell_type": "code",
   "execution_count": 18,
   "metadata": {},
   "outputs": [
    {
     "data": {
      "text/html": [
       "<div>\n",
       "<style scoped>\n",
       "    .dataframe tbody tr th:only-of-type {\n",
       "        vertical-align: middle;\n",
       "    }\n",
       "\n",
       "    .dataframe tbody tr th {\n",
       "        vertical-align: top;\n",
       "    }\n",
       "\n",
       "    .dataframe thead th {\n",
       "        text-align: right;\n",
       "    }\n",
       "</style>\n",
       "<table border=\"1\" class=\"dataframe\">\n",
       "  <thead>\n",
       "    <tr style=\"text-align: right;\">\n",
       "      <th></th>\n",
       "      <th>rootId</th>\n",
       "      <th>root</th>\n",
       "      <th>childId</th>\n",
       "      <th>child</th>\n",
       "      <th>incremental visits</th>\n",
       "    </tr>\n",
       "  </thead>\n",
       "  <tbody>\n",
       "    <tr>\n",
       "      <th>35</th>\n",
       "      <td>Abstract</td>\n",
       "      <td>4</td>\n",
       "      <td>Extended_abstract</td>\n",
       "      <td>1</td>\n",
       "      <td>Abstract Extended_abstract</td>\n",
       "    </tr>\n",
       "    <tr>\n",
       "      <th>4</th>\n",
       "      <td>Extended_abstract</td>\n",
       "      <td>52</td>\n",
       "      <td>Regular_contribution</td>\n",
       "      <td>1</td>\n",
       "      <td>Abstract Extended_abstract Regular_contribution</td>\n",
       "    </tr>\n",
       "    <tr>\n",
       "      <th>52</th>\n",
       "      <td>Regular_contribution</td>\n",
       "      <td>21</td>\n",
       "      <td>Written_contribution</td>\n",
       "      <td>1</td>\n",
       "      <td>Abstract Extended_abstract Regular_contributio...</td>\n",
       "    </tr>\n",
       "    <tr>\n",
       "      <th>21</th>\n",
       "      <td>Written_contribution</td>\n",
       "      <td>41</td>\n",
       "      <td>Conference_contribution</td>\n",
       "      <td>1</td>\n",
       "      <td>Abstract Extended_abstract Regular_contributio...</td>\n",
       "    </tr>\n",
       "    <tr>\n",
       "      <th>41</th>\n",
       "      <td>Conference_contribution</td>\n",
       "      <td>49</td>\n",
       "      <td>Conference_document</td>\n",
       "      <td>1</td>\n",
       "      <td>Abstract Extended_abstract Regular_contributio...</td>\n",
       "    </tr>\n",
       "  </tbody>\n",
       "</table>\n",
       "</div>"
      ],
      "text/plain": [
       "                     rootId  root                  childId  child  \\\n",
       "35                 Abstract     4        Extended_abstract      1   \n",
       "4         Extended_abstract    52     Regular_contribution      1   \n",
       "52     Regular_contribution    21     Written_contribution      1   \n",
       "21     Written_contribution    41  Conference_contribution      1   \n",
       "41  Conference_contribution    49      Conference_document      1   \n",
       "\n",
       "                                   incremental visits  \n",
       "35                         Abstract Extended_abstract  \n",
       "4     Abstract Extended_abstract Regular_contribution  \n",
       "52  Abstract Extended_abstract Regular_contributio...  \n",
       "21  Abstract Extended_abstract Regular_contributio...  \n",
       "41  Abstract Extended_abstract Regular_contributio...  "
      ]
     },
     "execution_count": 18,
     "metadata": {},
     "output_type": "execute_result"
    }
   ],
   "source": [
    "ant.head()"
   ]
  },
  {
   "cell_type": "code",
   "execution_count": 19,
   "metadata": {},
   "outputs": [
    {
     "data": {
      "text/plain": [
       "<matplotlib.axes._subplots.AxesSubplot at 0x1a205df7d0>"
      ]
     },
     "execution_count": 19,
     "metadata": {},
     "output_type": "execute_result"
    },
    {
     "data": {
      "image/png": "[encoded data removed]",
      "text/plain": [
       "<Figure size 432x288 with 1 Axes>"
      ]
     },
     "metadata": {
      "needs_background": "light"
     },
     "output_type": "display_data"
    }
   ],
   "source": [
    "sns.countplot(order[\"nodeId\"])"
   ]
  },
  {
   "cell_type": "code",
   "execution_count": 20,
   "metadata": {},
   "outputs": [
    {
     "data": {
      "text/plain": [
       "<matplotlib.axes._subplots.AxesSubplot at 0x1a20cfce50>"
      ]
     },
     "execution_count": 20,
     "metadata": {},
     "output_type": "execute_result"
    },
    {
     "data": {
      "image/png": "[encoded data removed]",
      "text/plain": [
       "<Figure size 432x288 with 1 Axes>"
      ]
     },
     "metadata": {
      "needs_background": "light"
     },
     "output_type": "display_data"
    }
   ],
   "source": [
    "sns.countplot(order[\"hop\"])"
   ]
  },
  {
   "cell_type": "code",
   "execution_count": 21,
   "metadata": {},
   "outputs": [
    {
     "data": {
      "text/plain": [
       "<matplotlib.axes._subplots.AxesSubplot at 0x1a20f2fc90>"
      ]
     },
     "execution_count": 21,
     "metadata": {},
     "output_type": "execute_result"
    },
    {
     "data": {
      "image/png": "[encoded data removed]",
      "text/plain": [
       "<Figure size 432x288 with 1 Axes>"
      ]
     },
     "metadata": {
      "needs_background": "light"
     },
     "output_type": "display_data"
    }
   ],
   "source": [
    "sns.countplot(order[\"loop\"])"
   ]
  },
  {
   "cell_type": "code",
   "execution_count": 22,
   "metadata": {},
   "outputs": [
    {
     "data": {
      "text/plain": [
       "<matplotlib.axes._subplots.AxesSubplot at 0x1a214a1910>"
      ]
     },
     "execution_count": 22,
     "metadata": {},
     "output_type": "execute_result"
    },
    {
     "data": {
      "image/png": "[encoded data removed]",
      "text/plain": [
       "<Figure size 432x288 with 1 Axes>"
      ]
     },
     "metadata": {
      "needs_background": "light"
     },
     "output_type": "display_data"
    }
   ],
   "source": [
    "sns.countplot(order[\"nodeName\"])"
   ]
  },
  {
   "cell_type": "code",
   "execution_count": 23,
   "metadata": {},
   "outputs": [],
   "source": [
    "categories = list(data_classes.iloc[:,1:2])\n"
   ]
  },
  {
   "cell_type": "code",
   "execution_count": null,
   "metadata": {},
   "outputs": [],
   "source": []
  },
  {
   "cell_type": "code",
   "execution_count": 24,
   "metadata": {},
   "outputs": [
    {
     "data": {
      "text/plain": [
       "0       0\n",
       "1       9\n",
       "2      10\n",
       "3       9\n",
       "4      18\n",
       "5      16\n",
       "6      34\n",
       "7       8\n",
       "8       8\n",
       "9      11\n",
       "10      8\n",
       "11     47\n",
       "12     14\n",
       "13      8\n",
       "14     35\n",
       "15      8\n",
       "16      4\n",
       "17      5\n",
       "18     40\n",
       "19     34\n",
       "20     13\n",
       "21     88\n",
       "22      8\n",
       "23      5\n",
       "24     37\n",
       "25      6\n",
       "26     22\n",
       "27     32\n",
       "28      3\n",
       "29     10\n",
       "30     17\n",
       "31      5\n",
       "32      8\n",
       "33     16\n",
       "34     43\n",
       "35     10\n",
       "36      4\n",
       "37     25\n",
       "38      6\n",
       "39     11\n",
       "40    163\n",
       "41    123\n",
       "42      6\n",
       "43      6\n",
       "44     12\n",
       "45      8\n",
       "46     10\n",
       "47     20\n",
       "48     10\n",
       "49    187\n",
       "50      9\n",
       "51      7\n",
       "52     33\n",
       "53      8\n",
       "54      4\n",
       "55      7\n",
       "56     10\n",
       "57     18\n",
       "58     10\n",
       "Name: visits, dtype: int64"
      ]
     },
     "execution_count": 24,
     "metadata": {},
     "output_type": "execute_result"
    }
   ],
   "source": [
    "data_classes['visits'].astype(int)"
   ]
  },
  {
   "cell_type": "code",
   "execution_count": 25,
   "metadata": {},
   "outputs": [],
   "source": [
    "vis = list(data_classes.iloc[:,2:3])\n"
   ]
  },
  {
   "cell_type": "code",
   "execution_count": 26,
   "metadata": {},
   "outputs": [
    {
     "name": "stdout",
     "output_type": "stream",
     "text": [
      "[1346]\n"
     ]
    }
   ],
   "source": [
    "print(data_classes.iloc[:,2:3].sum().values)"
   ]
  },
  {
   "cell_type": "code",
   "execution_count": null,
   "metadata": {},
   "outputs": [],
   "source": []
  },
  {
   "cell_type": "code",
   "execution_count": 27,
   "metadata": {},
   "outputs": [
    {
     "data": {
      "text/plain": [
       "<matplotlib.axes._subplots.AxesSubplot at 0x1a20e5e950>"
      ]
     },
     "execution_count": 27,
     "metadata": {},
     "output_type": "execute_result"
    },
    {
     "data": {
      "image/png": "[encoded data removed]",
      "text/plain": [
       "<Figure size 432x288 with 1 Axes>"
      ]
     },
     "metadata": {
      "needs_background": "light"
     },
     "output_type": "display_data"
    }
   ],
   "source": [
    "#sns.barplot(x = 'nodeId',  y='loop', hue = 'nodeId', data = order,\n",
    "\n",
    "sns.barplot(x = 'nodeId',  y='hop', data = order,\n",
    "            palette = 'hls',\n",
    "            #order = ['male', 'female'],  \n",
    "            capsize = 0.05,             \n",
    "            saturation = 8,             \n",
    "            errcolor = 'gray', errwidth = 2,  \n",
    "            ci = 'sd'   \n",
    "            )"
   ]
  },
  {
   "cell_type": "code",
   "execution_count": null,
   "metadata": {},
   "outputs": [],
   "source": []
  },
  {
   "cell_type": "code",
   "execution_count": null,
   "metadata": {},
   "outputs": [],
   "source": []
  },
  {
   "cell_type": "code",
   "execution_count": 28,
   "metadata": {},
   "outputs": [],
   "source": [
    "import numpy as np #pacote numérico usado na maioria das aplicações python\n"
   ]
  },
  {
   "cell_type": "code",
   "execution_count": 29,
   "metadata": {},
   "outputs": [
    {
     "data": {
      "text/plain": [
       "<matplotlib.axes._subplots.AxesSubplot at 0x1a21f1a9d0>"
      ]
     },
     "execution_count": 29,
     "metadata": {},
     "output_type": "execute_result"
    },
    {
     "data": {
      "image/png": "[encoded data removed]",
      "text/plain": [
       "<Figure size 432x288 with 1 Axes>"
      ]
     },
     "metadata": {
      "needs_background": "light"
     },
     "output_type": "display_data"
    }
   ],
   "source": [
    "sns.countplot(x='nodeId', data=order[order.hop.isin([0])] )"
   ]
  },
  {
   "cell_type": "code",
   "execution_count": 30,
   "metadata": {},
   "outputs": [
    {
     "data": {
      "text/plain": [
       "<matplotlib.axes._subplots.AxesSubplot at 0x1a22297810>"
      ]
     },
     "execution_count": 30,
     "metadata": {},
     "output_type": "execute_result"
    },
    {
     "data": {
      "image/png": "[encoded data removed]",
      "text/plain": [
       "<Figure size 432x288 with 1 Axes>"
      ]
     },
     "metadata": {
      "needs_background": "light"
     },
     "output_type": "display_data"
    }
   ],
   "source": [
    "sns.countplot(x='nodeNumber', data=data_classes.query('visits > 21') ) #q75 node with more than 21 visits"
   ]
  },
  {
   "cell_type": "code",
   "execution_count": 31,
   "metadata": {},
   "outputs": [
    {
     "data": {
      "text/plain": [
       "<matplotlib.axes._subplots.AxesSubplot at 0x1a2232f890>"
      ]
     },
     "execution_count": 31,
     "metadata": {},
     "output_type": "execute_result"
    },
    {
     "data": {
      "image/png": "[encoded data removed]",
      "text/plain": [
       "<Figure size 432x288 with 1 Axes>"
      ]
     },
     "metadata": {
      "needs_background": "light"
     },
     "output_type": "display_data"
    }
   ],
   "source": [
    "sns.countplot(x='nodeId', data=order.query('nodeId in [6,11,14,18,19,21,24,26,27,34,37,40,41,49,52]') ) #q75 node with more than 21 visits"
   ]
  },
  {
   "cell_type": "code",
   "execution_count": 32,
   "metadata": {},
   "outputs": [
    {
     "data": {
      "text/plain": [
       "<matplotlib.axes._subplots.AxesSubplot at 0x1a22455890>"
      ]
     },
     "execution_count": 32,
     "metadata": {},
     "output_type": "execute_result"
    },
    {
     "data": {
      "image/png": "[encoded data removed]",
      "text/plain": [
       "<Figure size 432x288 with 1 Axes>"
      ]
     },
     "metadata": {
      "needs_background": "light"
     },
     "output_type": "display_data"
    }
   ],
   "source": [
    "sns.countplot(x='hop', data=order.query('nodeId in [6,11,14,18,19,21,24,26,27,34,37,40,41,49,52]') ) #q75 node with more than 21 visits"
   ]
  },
  {
   "cell_type": "code",
   "execution_count": 33,
   "metadata": {},
   "outputs": [
    {
     "data": {
      "text/plain": [
       "<matplotlib.axes._subplots.AxesSubplot at 0x1a2253dbd0>"
      ]
     },
     "execution_count": 33,
     "metadata": {},
     "output_type": "execute_result"
    },
    {
     "data": {
      "image/png": "[encoded data removed]",
      "text/plain": [
       "<Figure size 432x288 with 1 Axes>"
      ]
     },
     "metadata": {
      "needs_background": "light"
     },
     "output_type": "display_data"
    }
   ],
   "source": [
    "sns.distplot(visits_c,bins=30,kde=False)"
   ]
  },
  {
   "cell_type": "code",
   "execution_count": 34,
   "metadata": {},
   "outputs": [
    {
     "data": {
      "text/plain": [
       "<matplotlib.axes._subplots.AxesSubplot at 0x1a22662210>"
      ]
     },
     "execution_count": 34,
     "metadata": {},
     "output_type": "execute_result"
    },
    {
     "data": {
      "image/png": "[encoded data removed]",
      "text/plain": [
       "<Figure size 432x288 with 1 Axes>"
      ]
     },
     "metadata": {
      "needs_background": "light"
     },
     "output_type": "display_data"
    }
   ],
   "source": [
    "sns.distplot(visits_c, bins=20)"
   ]
  },
  {
   "cell_type": "code",
   "execution_count": 35,
   "metadata": {},
   "outputs": [
    {
     "data": {
      "image/png": "[encoded data removed]",
      "text/plain": [
       "<Figure size 432x432 with 3 Axes>"
      ]
     },
     "metadata": {
      "needs_background": "light"
     },
     "output_type": "display_data"
    }
   ],
   "source": [
    "sns.jointplot(x=\"nodeNumber\", y=\"visits\", data=data_classes);"
   ]
  },
  {
   "cell_type": "code",
   "execution_count": 36,
   "metadata": {},
   "outputs": [
    {
     "data": {
      "text/plain": [
       "dict_keys(['node_c', 'visit_c'])"
      ]
     },
     "execution_count": 36,
     "metadata": {},
     "output_type": "execute_result"
    }
   ],
   "source": [
    "fieldnames=data_conceitos.keys()\n",
    "fieldnames"
   ]
  },
  {
   "cell_type": "code",
   "execution_count": null,
   "metadata": {},
   "outputs": [],
   "source": []
  },
  {
   "cell_type": "code",
   "execution_count": null,
   "metadata": {},
   "outputs": [],
   "source": []
  },
  {
   "cell_type": "code",
   "execution_count": 37,
   "metadata": {},
   "outputs": [],
   "source": [
    "import pandas\n",
    "randomWalk = pandas.read_csv(\"./visits/data/visits_Conference.owl_class_500.csv\")"
   ]
  },
  {
   "cell_type": "code",
   "execution_count": 38,
   "metadata": {},
   "outputs": [
    {
     "data": {
      "text/html": [
       "<div>\n",
       "<style scoped>\n",
       "    .dataframe tbody tr th:only-of-type {\n",
       "        vertical-align: middle;\n",
       "    }\n",
       "\n",
       "    .dataframe tbody tr th {\n",
       "        vertical-align: top;\n",
       "    }\n",
       "\n",
       "    .dataframe thead th {\n",
       "        text-align: right;\n",
       "    }\n",
       "</style>\n",
       "<table border=\"1\" class=\"dataframe\">\n",
       "  <thead>\n",
       "    <tr style=\"text-align: right;\">\n",
       "      <th></th>\n",
       "      <th>nodeNumber</th>\n",
       "      <th>node</th>\n",
       "      <th>visits</th>\n",
       "      <th>paths</th>\n",
       "    </tr>\n",
       "  </thead>\n",
       "  <tbody>\n",
       "    <tr>\n",
       "      <th>0</th>\n",
       "      <td>0</td>\n",
       "      <td>Contribution_co-author</td>\n",
       "      <td>0</td>\n",
       "      <td></td>\n",
       "    </tr>\n",
       "    <tr>\n",
       "      <th>1</th>\n",
       "      <td>1</td>\n",
       "      <td>Conference_www</td>\n",
       "      <td>9</td>\n",
       "      <td>Conference_www Conference_www Conference_www...</td>\n",
       "    </tr>\n",
       "    <tr>\n",
       "      <th>2</th>\n",
       "      <td>2</td>\n",
       "      <td>Active_conference_participant</td>\n",
       "      <td>10</td>\n",
       "      <td>Active_conference_participant Active_confere...</td>\n",
       "    </tr>\n",
       "    <tr>\n",
       "      <th>3</th>\n",
       "      <td>3</td>\n",
       "      <td>Contribution_1th-author</td>\n",
       "      <td>9</td>\n",
       "      <td>Contribution_1th-author Contribution_1th-aut...</td>\n",
       "    </tr>\n",
       "    <tr>\n",
       "      <th>4</th>\n",
       "      <td>4</td>\n",
       "      <td>Extended_abstract</td>\n",
       "      <td>18</td>\n",
       "      <td>Abstract Extended_abstract Abstract Extended...</td>\n",
       "    </tr>\n",
       "  </tbody>\n",
       "</table>\n",
       "</div>"
      ],
      "text/plain": [
       "   nodeNumber                           node  visits  \\\n",
       "0           0         Contribution_co-author       0   \n",
       "1           1                 Conference_www       9   \n",
       "2           2  Active_conference_participant      10   \n",
       "3           3        Contribution_1th-author       9   \n",
       "4           4              Extended_abstract      18   \n",
       "\n",
       "                                               paths  \n",
       "0                                                     \n",
       "1    Conference_www Conference_www Conference_www...  \n",
       "2    Active_conference_participant Active_confere...  \n",
       "3    Contribution_1th-author Contribution_1th-aut...  \n",
       "4    Abstract Extended_abstract Abstract Extended...  "
      ]
     },
     "execution_count": 38,
     "metadata": {},
     "output_type": "execute_result"
    }
   ],
   "source": [
    "randomWalk.head()"
   ]
  },
  {
   "cell_type": "code",
   "execution_count": 39,
   "metadata": {},
   "outputs": [
    {
     "data": {
      "text/plain": [
       "22.8135593220339"
      ]
     },
     "execution_count": 39,
     "metadata": {},
     "output_type": "execute_result"
    }
   ],
   "source": [
    "randomWalk.visits.mean()"
   ]
  },
  {
   "cell_type": "code",
   "execution_count": 40,
   "metadata": {},
   "outputs": [
    {
     "data": {
      "text/plain": [
       "count     59.000000\n",
       "mean      22.813559\n",
       "std       35.229041\n",
       "min        0.000000\n",
       "25%        8.000000\n",
       "50%       10.000000\n",
       "75%       21.000000\n",
       "max      187.000000\n",
       "Name: visits, dtype: float64"
      ]
     },
     "execution_count": 40,
     "metadata": {},
     "output_type": "execute_result"
    }
   ],
   "source": [
    "randomWalk.visits.describe()"
   ]
  },
  {
   "cell_type": "code",
   "execution_count": 41,
   "metadata": {},
   "outputs": [
    {
     "data": {
      "text/plain": [
       "nodeNumber    14.5\n",
       "visits         8.0\n",
       "Name: 0.25, dtype: float64"
      ]
     },
     "execution_count": 41,
     "metadata": {},
     "output_type": "execute_result"
    }
   ],
   "source": [
    "q25 = randomWalk.quantile(0.25)\n",
    "q25"
   ]
  },
  {
   "cell_type": "code",
   "execution_count": 42,
   "metadata": {},
   "outputs": [
    {
     "data": {
      "text/plain": [
       "nodeNumber    43.5\n",
       "visits        21.0\n",
       "Name: 0.75, dtype: float64"
      ]
     },
     "execution_count": 42,
     "metadata": {},
     "output_type": "execute_result"
    }
   ],
   "source": [
    "q75 = randomWalk.quantile(0.75)\n",
    "q75"
   ]
  },
  {
   "cell_type": "code",
   "execution_count": 43,
   "metadata": {},
   "outputs": [
    {
     "data": {
      "text/plain": [
       "10.0"
      ]
     },
     "execution_count": 43,
     "metadata": {},
     "output_type": "execute_result"
    }
   ],
   "source": [
    "np.median(randomWalk['visits'])"
   ]
  },
  {
   "cell_type": "code",
   "execution_count": 44,
   "metadata": {},
   "outputs": [
    {
     "data": {
      "text/plain": [
       "<matplotlib.axes._subplots.AxesSubplot at 0x1a229568d0>"
      ]
     },
     "execution_count": 44,
     "metadata": {},
     "output_type": "execute_result"
    },
    {
     "data": {
      "image/png": "[encoded data removed]",
      "text/plain": [
       "<Figure size 432x288 with 1 Axes>"
      ]
     },
     "metadata": {
      "needs_background": "light"
     },
     "output_type": "display_data"
    }
   ],
   "source": [
    "sns.boxplot(randomWalk.visits)"
   ]
  },
  {
   "cell_type": "code",
   "execution_count": 45,
   "metadata": {},
   "outputs": [
    {
     "data": {
      "text/plain": [
       "<matplotlib.axes._subplots.AxesSubplot at 0x1a22d86b50>"
      ]
     },
     "execution_count": 45,
     "metadata": {},
     "output_type": "execute_result"
    },
    {
     "data": {
      "image/png": "[encoded data removed]",
      "text/plain": [
       "<Figure size 432x288 with 1 Axes>"
      ]
     },
     "metadata": {
      "needs_background": "light"
     },
     "output_type": "display_data"
    }
   ],
   "source": [
    "sns.swarmplot(randomWalk['visits'], orient=\"v\")"
   ]
  },
  {
   "cell_type": "code",
   "execution_count": 46,
   "metadata": {},
   "outputs": [
    {
     "data": {
      "text/plain": [
       "<matplotlib.axes._subplots.AxesSubplot at 0x1a22e52d50>"
      ]
     },
     "execution_count": 46,
     "metadata": {},
     "output_type": "execute_result"
    },
    {
     "data": {
      "image/png": "[encoded data removed]",
      "text/plain": [
       "<Figure size 432x288 with 1 Axes>"
      ]
     },
     "metadata": {
      "needs_background": "light"
     },
     "output_type": "display_data"
    }
   ],
   "source": [
    "sns.violinplot(randomWalk['visits'], orient=\"v\")"
   ]
  },
  {
   "cell_type": "code",
   "execution_count": 47,
   "metadata": {},
   "outputs": [
    {
     "data": {
      "text/plain": [
       "<matplotlib.axes._subplots.AxesSubplot at 0x1a22f2f910>"
      ]
     },
     "execution_count": 47,
     "metadata": {},
     "output_type": "execute_result"
    },
    {
     "data": {
      "image/png": "[encoded data removed]",
      "text/plain": [
       "<Figure size 432x288 with 1 Axes>"
      ]
     },
     "metadata": {
      "needs_background": "light"
     },
     "output_type": "display_data"
    }
   ],
   "source": [
    "sns.swarmplot(randomWalk['visits'], orient=\"v\")\n",
    "sns.boxplot(randomWalk.visits, orient=\"v\", color=\"red\")"
   ]
  },
  {
   "cell_type": "code",
   "execution_count": 48,
   "metadata": {},
   "outputs": [
    {
     "data": {
      "text/plain": [
       "<seaborn.axisgrid.FacetGrid at 0x1a20693050>"
      ]
     },
     "execution_count": 48,
     "metadata": {},
     "output_type": "execute_result"
    },
    {
     "data": {
      "image/png": "[encoded data removed]",
      "text/plain": [
       "<Figure size 360x360 with 1 Axes>"
      ]
     },
     "metadata": {
      "needs_background": "light"
     },
     "output_type": "display_data"
    }
   ],
   "source": [
    "sns.lmplot( y=\"visits\", x=\"nodeNumber\", data=randomWalk, fit_reg=False)"
   ]
  },
  {
   "cell_type": "code",
   "execution_count": 49,
   "metadata": {},
   "outputs": [
    {
     "data": {
      "text/plain": [
       "<matplotlib.axes._subplots.AxesSubplot at 0x1a22feb350>"
      ]
     },
     "execution_count": 49,
     "metadata": {},
     "output_type": "execute_result"
    },
    {
     "data": {
      "image/png": "[encoded data removed]",
      "text/plain": [
       "<Figure size 432x288 with 1 Axes>"
      ]
     },
     "metadata": {
      "needs_background": "light"
     },
     "output_type": "display_data"
    }
   ],
   "source": [
    "randomWalk.visits.hist(bins=80)\n"
   ]
  },
  {
   "cell_type": "code",
   "execution_count": 50,
   "metadata": {},
   "outputs": [
    {
     "data": {
      "text/plain": [
       "0    8\n",
       "dtype: int64"
      ]
     },
     "execution_count": 50,
     "metadata": {},
     "output_type": "execute_result"
    }
   ],
   "source": [
    "randomWalk.visits.mode()"
   ]
  },
  {
   "cell_type": "code",
   "execution_count": 51,
   "metadata": {},
   "outputs": [],
   "source": [
    "def assimetria(coluna):\n",
    "    moda = coluna.mode()[0]\n",
    "    media = coluna.mean()\n",
    "    mediana = coluna.median()\n",
    "    if (media < mediana < moda):\n",
    "        print(\"negativo\")\n",
    "    elif (media > mediana > moda):\n",
    "        print(\"positivo\")\n",
    "    else:\n",
    "        print(\"simetrico\")"
   ]
  },
  {
   "cell_type": "code",
   "execution_count": 52,
   "metadata": {},
   "outputs": [
    {
     "name": "stdout",
     "output_type": "stream",
     "text": [
      "positivo\n"
     ]
    }
   ],
   "source": [
    "assimetria(randomWalk.visits)"
   ]
  },
  {
   "cell_type": "code",
   "execution_count": 53,
   "metadata": {},
   "outputs": [
    {
     "data": {
      "text/plain": [
       "<matplotlib.axes._subplots.AxesSubplot at 0x1a23154d50>"
      ]
     },
     "execution_count": 53,
     "metadata": {},
     "output_type": "execute_result"
    },
    {
     "data": {
      "image/png": "[encoded data removed]",
      "text/plain": [
       "<Figure size 432x288 with 1 Axes>"
      ]
     },
     "metadata": {
      "needs_background": "light"
     },
     "output_type": "display_data"
    }
   ],
   "source": [
    "sns.distplot(randomWalk.visits, bins=80)"
   ]
  },
  {
   "cell_type": "code",
   "execution_count": 54,
   "metadata": {},
   "outputs": [
    {
     "data": {
      "text/plain": [
       "187"
      ]
     },
     "execution_count": 54,
     "metadata": {},
     "output_type": "execute_result"
    }
   ],
   "source": [
    "randomWalk.visits.max() - randomWalk.visits.min()"
   ]
  },
  {
   "cell_type": "code",
   "execution_count": 55,
   "metadata": {},
   "outputs": [],
   "source": [
    "def variancia(lista):\n",
    "    n = len(lista)\n",
    "    mu = np.mean(lista)\n",
    "    numerador = 0\n",
    "    for i in lista:\n",
    "        numerador += (i - mu)**2\n",
    "    return numerador/n"
   ]
  },
  {
   "cell_type": "code",
   "execution_count": null,
   "metadata": {},
   "outputs": [],
   "source": []
  },
  {
   "cell_type": "code",
   "execution_count": 56,
   "metadata": {},
   "outputs": [
    {
     "data": {
      "text/plain": [
       "1220.049985636311"
      ]
     },
     "execution_count": 56,
     "metadata": {},
     "output_type": "execute_result"
    }
   ],
   "source": [
    "variancia(randomWalk.visits)"
   ]
  },
  {
   "cell_type": "code",
   "execution_count": 57,
   "metadata": {},
   "outputs": [
    {
     "data": {
      "text/plain": [
       "1241.0853302162475"
      ]
     },
     "execution_count": 57,
     "metadata": {},
     "output_type": "execute_result"
    }
   ],
   "source": [
    "randomWalk.visits.var()"
   ]
  },
  {
   "cell_type": "code",
   "execution_count": 58,
   "metadata": {},
   "outputs": [
    {
     "data": {
      "text/plain": [
       "<matplotlib.axes._subplots.AxesSubplot at 0x1a23302810>"
      ]
     },
     "execution_count": 58,
     "metadata": {},
     "output_type": "execute_result"
    },
    {
     "data": {
      "image/png": "[encoded data removed]",
      "text/plain": [
       "<Figure size 432x288 with 1 Axes>"
      ]
     },
     "metadata": {
      "needs_background": "light"
     },
     "output_type": "display_data"
    }
   ],
   "source": [
    "sns.distplot(randomWalk.visits, hist=False)"
   ]
  },
  {
   "cell_type": "code",
   "execution_count": 59,
   "metadata": {},
   "outputs": [
    {
     "data": {
      "text/plain": [
       "35.22904100619612"
      ]
     },
     "execution_count": 59,
     "metadata": {},
     "output_type": "execute_result"
    }
   ],
   "source": [
    "randomWalk.visits.std()"
   ]
  },
  {
   "cell_type": "code",
   "execution_count": 60,
   "metadata": {},
   "outputs": [],
   "source": [
    "conf40 = order[order.nodeId.isin([40])]"
   ]
  },
  {
   "cell_type": "code",
   "execution_count": 61,
   "metadata": {},
   "outputs": [
    {
     "data": {
      "text/html": [
       "<div>\n",
       "<style scoped>\n",
       "    .dataframe tbody tr th:only-of-type {\n",
       "        vertical-align: middle;\n",
       "    }\n",
       "\n",
       "    .dataframe tbody tr th {\n",
       "        vertical-align: top;\n",
       "    }\n",
       "\n",
       "    .dataframe thead th {\n",
       "        text-align: right;\n",
       "    }\n",
       "</style>\n",
       "<table border=\"1\" class=\"dataframe\">\n",
       "  <thead>\n",
       "    <tr style=\"text-align: right;\">\n",
       "      <th></th>\n",
       "      <th>nodeId</th>\n",
       "      <th>nodeName</th>\n",
       "      <th>nodeType</th>\n",
       "      <th>nodeLevel</th>\n",
       "      <th>loop</th>\n",
       "      <th>hop</th>\n",
       "      <th>path</th>\n",
       "    </tr>\n",
       "  </thead>\n",
       "  <tbody>\n",
       "    <tr>\n",
       "      <th>14</th>\n",
       "      <td>40</td>\n",
       "      <td>Person</td>\n",
       "      <td>Class</td>\n",
       "      <td>-1</td>\n",
       "      <td>4</td>\n",
       "      <td>1</td>\n",
       "      <td>Conference_contributor Person</td>\n",
       "    </tr>\n",
       "    <tr>\n",
       "      <th>18</th>\n",
       "      <td>40</td>\n",
       "      <td>Person</td>\n",
       "      <td>Class</td>\n",
       "      <td>-1</td>\n",
       "      <td>5</td>\n",
       "      <td>3</td>\n",
       "      <td>Paid_applicant Registeered_applicant Conferenc...</td>\n",
       "    </tr>\n",
       "    <tr>\n",
       "      <th>21</th>\n",
       "      <td>40</td>\n",
       "      <td>Person</td>\n",
       "      <td>Class</td>\n",
       "      <td>-1</td>\n",
       "      <td>7</td>\n",
       "      <td>1</td>\n",
       "      <td>Reviewer Person</td>\n",
       "    </tr>\n",
       "    <tr>\n",
       "      <th>31</th>\n",
       "      <td>40</td>\n",
       "      <td>Person</td>\n",
       "      <td>Class</td>\n",
       "      <td>-1</td>\n",
       "      <td>9</td>\n",
       "      <td>3</td>\n",
       "      <td>Contribution_1th-author Regular_author Confere...</td>\n",
       "    </tr>\n",
       "    <tr>\n",
       "      <th>43</th>\n",
       "      <td>40</td>\n",
       "      <td>Person</td>\n",
       "      <td>Class</td>\n",
       "      <td>-1</td>\n",
       "      <td>14</td>\n",
       "      <td>1</td>\n",
       "      <td>Conference_contributor Person</td>\n",
       "    </tr>\n",
       "    <tr>\n",
       "      <th>...</th>\n",
       "      <td>...</td>\n",
       "      <td>...</td>\n",
       "      <td>...</td>\n",
       "      <td>...</td>\n",
       "      <td>...</td>\n",
       "      <td>...</td>\n",
       "      <td>...</td>\n",
       "    </tr>\n",
       "    <tr>\n",
       "      <th>1299</th>\n",
       "      <td>40</td>\n",
       "      <td>Person</td>\n",
       "      <td>Class</td>\n",
       "      <td>-1</td>\n",
       "      <td>485</td>\n",
       "      <td>2</td>\n",
       "      <td>Registeered_applicant Conference_applicant Person</td>\n",
       "    </tr>\n",
       "    <tr>\n",
       "      <th>1301</th>\n",
       "      <td>40</td>\n",
       "      <td>Person</td>\n",
       "      <td>Class</td>\n",
       "      <td>-1</td>\n",
       "      <td>486</td>\n",
       "      <td>1</td>\n",
       "      <td>Committee_member Person</td>\n",
       "    </tr>\n",
       "    <tr>\n",
       "      <th>1315</th>\n",
       "      <td>40</td>\n",
       "      <td>Person</td>\n",
       "      <td>Class</td>\n",
       "      <td>-1</td>\n",
       "      <td>490</td>\n",
       "      <td>2</td>\n",
       "      <td>Invited_speaker Conference_contributor Person</td>\n",
       "    </tr>\n",
       "    <tr>\n",
       "      <th>1323</th>\n",
       "      <td>40</td>\n",
       "      <td>Person</td>\n",
       "      <td>Class</td>\n",
       "      <td>-1</td>\n",
       "      <td>492</td>\n",
       "      <td>1</td>\n",
       "      <td>Conference_applicant Person</td>\n",
       "    </tr>\n",
       "    <tr>\n",
       "      <th>1326</th>\n",
       "      <td>40</td>\n",
       "      <td>Person</td>\n",
       "      <td>Class</td>\n",
       "      <td>-1</td>\n",
       "      <td>493</td>\n",
       "      <td>2</td>\n",
       "      <td>Co-chair Committee_member Person</td>\n",
       "    </tr>\n",
       "  </tbody>\n",
       "</table>\n",
       "<p>163 rows × 7 columns</p>\n",
       "</div>"
      ],
      "text/plain": [
       "      nodeId nodeName nodeType  nodeLevel  loop  hop  \\\n",
       "14        40   Person    Class         -1     4    1   \n",
       "18        40   Person    Class         -1     5    3   \n",
       "21        40   Person    Class         -1     7    1   \n",
       "31        40   Person    Class         -1     9    3   \n",
       "43        40   Person    Class         -1    14    1   \n",
       "...      ...      ...      ...        ...   ...  ...   \n",
       "1299      40   Person    Class         -1   485    2   \n",
       "1301      40   Person    Class         -1   486    1   \n",
       "1315      40   Person    Class         -1   490    2   \n",
       "1323      40   Person    Class         -1   492    1   \n",
       "1326      40   Person    Class         -1   493    2   \n",
       "\n",
       "                                                   path  \n",
       "14                        Conference_contributor Person  \n",
       "18    Paid_applicant Registeered_applicant Conferenc...  \n",
       "21                                      Reviewer Person  \n",
       "31    Contribution_1th-author Regular_author Confere...  \n",
       "43                        Conference_contributor Person  \n",
       "...                                                 ...  \n",
       "1299  Registeered_applicant Conference_applicant Person  \n",
       "1301                            Committee_member Person  \n",
       "1315      Invited_speaker Conference_contributor Person  \n",
       "1323                        Conference_applicant Person  \n",
       "1326                   Co-chair Committee_member Person  \n",
       "\n",
       "[163 rows x 7 columns]"
      ]
     },
     "execution_count": 61,
     "metadata": {},
     "output_type": "execute_result"
    }
   ],
   "source": [
    "conf40"
   ]
  },
  {
   "cell_type": "code",
   "execution_count": 62,
   "metadata": {},
   "outputs": [],
   "source": [
    "conf_path = order.groupby([\"nodeId\",\"nodeName\"]).count()"
   ]
  },
  {
   "cell_type": "code",
   "execution_count": 63,
   "metadata": {},
   "outputs": [
    {
     "data": {
      "text/html": [
       "<div>\n",
       "<style scoped>\n",
       "    .dataframe tbody tr th:only-of-type {\n",
       "        vertical-align: middle;\n",
       "    }\n",
       "\n",
       "    .dataframe tbody tr th {\n",
       "        vertical-align: top;\n",
       "    }\n",
       "\n",
       "    .dataframe thead th {\n",
       "        text-align: right;\n",
       "    }\n",
       "</style>\n",
       "<table border=\"1\" class=\"dataframe\">\n",
       "  <thead>\n",
       "    <tr style=\"text-align: right;\">\n",
       "      <th></th>\n",
       "      <th></th>\n",
       "      <th>nodeType</th>\n",
       "      <th>nodeLevel</th>\n",
       "      <th>loop</th>\n",
       "      <th>hop</th>\n",
       "      <th>path</th>\n",
       "    </tr>\n",
       "    <tr>\n",
       "      <th>nodeId</th>\n",
       "      <th>nodeName</th>\n",
       "      <th></th>\n",
       "      <th></th>\n",
       "      <th></th>\n",
       "      <th></th>\n",
       "      <th></th>\n",
       "    </tr>\n",
       "  </thead>\n",
       "  <tbody>\n",
       "    <tr>\n",
       "      <th>1</th>\n",
       "      <th>Conference_www</th>\n",
       "      <td>9</td>\n",
       "      <td>9</td>\n",
       "      <td>9</td>\n",
       "      <td>9</td>\n",
       "      <td>9</td>\n",
       "    </tr>\n",
       "    <tr>\n",
       "      <th>2</th>\n",
       "      <th>Active_conference_participant</th>\n",
       "      <td>10</td>\n",
       "      <td>10</td>\n",
       "      <td>10</td>\n",
       "      <td>10</td>\n",
       "      <td>10</td>\n",
       "    </tr>\n",
       "    <tr>\n",
       "      <th>3</th>\n",
       "      <th>Contribution_1th-author</th>\n",
       "      <td>9</td>\n",
       "      <td>9</td>\n",
       "      <td>9</td>\n",
       "      <td>9</td>\n",
       "      <td>9</td>\n",
       "    </tr>\n",
       "    <tr>\n",
       "      <th>4</th>\n",
       "      <th>Extended_abstract</th>\n",
       "      <td>18</td>\n",
       "      <td>18</td>\n",
       "      <td>18</td>\n",
       "      <td>18</td>\n",
       "      <td>18</td>\n",
       "    </tr>\n",
       "    <tr>\n",
       "      <th>5</th>\n",
       "      <th>Accepted_contribution</th>\n",
       "      <td>16</td>\n",
       "      <td>16</td>\n",
       "      <td>16</td>\n",
       "      <td>16</td>\n",
       "      <td>16</td>\n",
       "    </tr>\n",
       "    <tr>\n",
       "      <th>6</th>\n",
       "      <th>Conference_part</th>\n",
       "      <td>34</td>\n",
       "      <td>34</td>\n",
       "      <td>34</td>\n",
       "      <td>34</td>\n",
       "      <td>34</td>\n",
       "    </tr>\n",
       "    <tr>\n",
       "      <th>7</th>\n",
       "      <th>Track</th>\n",
       "      <td>8</td>\n",
       "      <td>8</td>\n",
       "      <td>8</td>\n",
       "      <td>8</td>\n",
       "      <td>8</td>\n",
       "    </tr>\n",
       "    <tr>\n",
       "      <th>8</th>\n",
       "      <th>Paper</th>\n",
       "      <td>8</td>\n",
       "      <td>8</td>\n",
       "      <td>8</td>\n",
       "      <td>8</td>\n",
       "      <td>8</td>\n",
       "    </tr>\n",
       "    <tr>\n",
       "      <th>9</th>\n",
       "      <th>Track-workshop_chair</th>\n",
       "      <td>11</td>\n",
       "      <td>11</td>\n",
       "      <td>11</td>\n",
       "      <td>11</td>\n",
       "      <td>11</td>\n",
       "    </tr>\n",
       "    <tr>\n",
       "      <th>10</th>\n",
       "      <th>Review_preference</th>\n",
       "      <td>8</td>\n",
       "      <td>8</td>\n",
       "      <td>8</td>\n",
       "      <td>8</td>\n",
       "      <td>8</td>\n",
       "    </tr>\n",
       "    <tr>\n",
       "      <th>11</th>\n",
       "      <th>Submitted_contribution</th>\n",
       "      <td>47</td>\n",
       "      <td>47</td>\n",
       "      <td>47</td>\n",
       "      <td>47</td>\n",
       "      <td>47</td>\n",
       "    </tr>\n",
       "    <tr>\n",
       "      <th>12</th>\n",
       "      <th>Invited_speaker</th>\n",
       "      <td>14</td>\n",
       "      <td>14</td>\n",
       "      <td>14</td>\n",
       "      <td>14</td>\n",
       "      <td>14</td>\n",
       "    </tr>\n",
       "    <tr>\n",
       "      <th>13</th>\n",
       "      <th>Reviewer</th>\n",
       "      <td>8</td>\n",
       "      <td>8</td>\n",
       "      <td>8</td>\n",
       "      <td>8</td>\n",
       "      <td>8</td>\n",
       "    </tr>\n",
       "    <tr>\n",
       "      <th>14</th>\n",
       "      <th>Committee</th>\n",
       "      <td>35</td>\n",
       "      <td>35</td>\n",
       "      <td>35</td>\n",
       "      <td>35</td>\n",
       "      <td>35</td>\n",
       "    </tr>\n",
       "    <tr>\n",
       "      <th>15</th>\n",
       "      <th>Chair</th>\n",
       "      <td>8</td>\n",
       "      <td>8</td>\n",
       "      <td>8</td>\n",
       "      <td>8</td>\n",
       "      <td>8</td>\n",
       "    </tr>\n",
       "    <tr>\n",
       "      <th>16</th>\n",
       "      <th>Review</th>\n",
       "      <td>4</td>\n",
       "      <td>4</td>\n",
       "      <td>4</td>\n",
       "      <td>4</td>\n",
       "      <td>4</td>\n",
       "    </tr>\n",
       "    <tr>\n",
       "      <th>17</th>\n",
       "      <th>Information_for_participants</th>\n",
       "      <td>5</td>\n",
       "      <td>5</td>\n",
       "      <td>5</td>\n",
       "      <td>5</td>\n",
       "      <td>5</td>\n",
       "    </tr>\n",
       "    <tr>\n",
       "      <th>18</th>\n",
       "      <th>Conference_applicant</th>\n",
       "      <td>40</td>\n",
       "      <td>40</td>\n",
       "      <td>40</td>\n",
       "      <td>40</td>\n",
       "      <td>40</td>\n",
       "    </tr>\n",
       "    <tr>\n",
       "      <th>19</th>\n",
       "      <th>Registeered_applicant</th>\n",
       "      <td>34</td>\n",
       "      <td>34</td>\n",
       "      <td>34</td>\n",
       "      <td>34</td>\n",
       "      <td>34</td>\n",
       "    </tr>\n",
       "    <tr>\n",
       "      <th>20</th>\n",
       "      <th>Rejected_contribution</th>\n",
       "      <td>13</td>\n",
       "      <td>13</td>\n",
       "      <td>13</td>\n",
       "      <td>13</td>\n",
       "      <td>13</td>\n",
       "    </tr>\n",
       "    <tr>\n",
       "      <th>21</th>\n",
       "      <th>Written_contribution</th>\n",
       "      <td>88</td>\n",
       "      <td>88</td>\n",
       "      <td>88</td>\n",
       "      <td>88</td>\n",
       "      <td>88</td>\n",
       "    </tr>\n",
       "    <tr>\n",
       "      <th>22</th>\n",
       "      <th>Early_paid_applicant</th>\n",
       "      <td>8</td>\n",
       "      <td>8</td>\n",
       "      <td>8</td>\n",
       "      <td>8</td>\n",
       "      <td>8</td>\n",
       "    </tr>\n",
       "    <tr>\n",
       "      <th>23</th>\n",
       "      <th>Conference_proceedings</th>\n",
       "      <td>5</td>\n",
       "      <td>5</td>\n",
       "      <td>5</td>\n",
       "      <td>5</td>\n",
       "      <td>5</td>\n",
       "    </tr>\n",
       "    <tr>\n",
       "      <th>24</th>\n",
       "      <th>Reviewed_contribution</th>\n",
       "      <td>37</td>\n",
       "      <td>37</td>\n",
       "      <td>37</td>\n",
       "      <td>37</td>\n",
       "      <td>37</td>\n",
       "    </tr>\n",
       "    <tr>\n",
       "      <th>25</th>\n",
       "      <th>Camera_ready_contribution</th>\n",
       "      <td>6</td>\n",
       "      <td>6</td>\n",
       "      <td>6</td>\n",
       "      <td>6</td>\n",
       "      <td>6</td>\n",
       "    </tr>\n",
       "    <tr>\n",
       "      <th>26</th>\n",
       "      <th>Conference_participant</th>\n",
       "      <td>22</td>\n",
       "      <td>22</td>\n",
       "      <td>22</td>\n",
       "      <td>22</td>\n",
       "      <td>22</td>\n",
       "    </tr>\n",
       "    <tr>\n",
       "      <th>27</th>\n",
       "      <th>Committee_member</th>\n",
       "      <td>32</td>\n",
       "      <td>32</td>\n",
       "      <td>32</td>\n",
       "      <td>32</td>\n",
       "      <td>32</td>\n",
       "    </tr>\n",
       "    <tr>\n",
       "      <th>28</th>\n",
       "      <th>Publisher</th>\n",
       "      <td>3</td>\n",
       "      <td>3</td>\n",
       "      <td>3</td>\n",
       "      <td>3</td>\n",
       "      <td>3</td>\n",
       "    </tr>\n",
       "    <tr>\n",
       "      <th>29</th>\n",
       "      <th>Review_expertise</th>\n",
       "      <td>10</td>\n",
       "      <td>10</td>\n",
       "      <td>10</td>\n",
       "      <td>10</td>\n",
       "      <td>10</td>\n",
       "    </tr>\n",
       "    <tr>\n",
       "      <th>30</th>\n",
       "      <th>Presentation</th>\n",
       "      <td>17</td>\n",
       "      <td>17</td>\n",
       "      <td>17</td>\n",
       "      <td>17</td>\n",
       "      <td>17</td>\n",
       "    </tr>\n",
       "    <tr>\n",
       "      <th>31</th>\n",
       "      <th>Conference_volume</th>\n",
       "      <td>5</td>\n",
       "      <td>5</td>\n",
       "      <td>5</td>\n",
       "      <td>5</td>\n",
       "      <td>5</td>\n",
       "    </tr>\n",
       "    <tr>\n",
       "      <th>32</th>\n",
       "      <th>Tutorial</th>\n",
       "      <td>8</td>\n",
       "      <td>8</td>\n",
       "      <td>8</td>\n",
       "      <td>8</td>\n",
       "      <td>8</td>\n",
       "    </tr>\n",
       "    <tr>\n",
       "      <th>33</th>\n",
       "      <th>Regular_author</th>\n",
       "      <td>16</td>\n",
       "      <td>16</td>\n",
       "      <td>16</td>\n",
       "      <td>16</td>\n",
       "      <td>16</td>\n",
       "    </tr>\n",
       "    <tr>\n",
       "      <th>34</th>\n",
       "      <th>Conference_contributor</th>\n",
       "      <td>43</td>\n",
       "      <td>43</td>\n",
       "      <td>43</td>\n",
       "      <td>43</td>\n",
       "      <td>43</td>\n",
       "    </tr>\n",
       "    <tr>\n",
       "      <th>35</th>\n",
       "      <th>Abstract</th>\n",
       "      <td>10</td>\n",
       "      <td>10</td>\n",
       "      <td>10</td>\n",
       "      <td>10</td>\n",
       "      <td>10</td>\n",
       "    </tr>\n",
       "    <tr>\n",
       "      <th>36</th>\n",
       "      <th>Conference_fees</th>\n",
       "      <td>4</td>\n",
       "      <td>4</td>\n",
       "      <td>4</td>\n",
       "      <td>4</td>\n",
       "      <td>4</td>\n",
       "    </tr>\n",
       "    <tr>\n",
       "      <th>37</th>\n",
       "      <th>Paid_applicant</th>\n",
       "      <td>25</td>\n",
       "      <td>25</td>\n",
       "      <td>25</td>\n",
       "      <td>25</td>\n",
       "      <td>25</td>\n",
       "    </tr>\n",
       "    <tr>\n",
       "      <th>38</th>\n",
       "      <th>Workshop</th>\n",
       "      <td>6</td>\n",
       "      <td>6</td>\n",
       "      <td>6</td>\n",
       "      <td>6</td>\n",
       "      <td>6</td>\n",
       "    </tr>\n",
       "    <tr>\n",
       "      <th>39</th>\n",
       "      <th>Call_for_participation</th>\n",
       "      <td>11</td>\n",
       "      <td>11</td>\n",
       "      <td>11</td>\n",
       "      <td>11</td>\n",
       "      <td>11</td>\n",
       "    </tr>\n",
       "    <tr>\n",
       "      <th>40</th>\n",
       "      <th>Person</th>\n",
       "      <td>163</td>\n",
       "      <td>163</td>\n",
       "      <td>163</td>\n",
       "      <td>163</td>\n",
       "      <td>163</td>\n",
       "    </tr>\n",
       "    <tr>\n",
       "      <th>41</th>\n",
       "      <th>Conference_contribution</th>\n",
       "      <td>123</td>\n",
       "      <td>123</td>\n",
       "      <td>123</td>\n",
       "      <td>123</td>\n",
       "      <td>123</td>\n",
       "    </tr>\n",
       "    <tr>\n",
       "      <th>42</th>\n",
       "      <th>Poster</th>\n",
       "      <td>6</td>\n",
       "      <td>6</td>\n",
       "      <td>6</td>\n",
       "      <td>6</td>\n",
       "      <td>6</td>\n",
       "    </tr>\n",
       "    <tr>\n",
       "      <th>43</th>\n",
       "      <th>Steering_committee</th>\n",
       "      <td>6</td>\n",
       "      <td>6</td>\n",
       "      <td>6</td>\n",
       "      <td>6</td>\n",
       "      <td>6</td>\n",
       "    </tr>\n",
       "    <tr>\n",
       "      <th>44</th>\n",
       "      <th>Co-chair</th>\n",
       "      <td>12</td>\n",
       "      <td>12</td>\n",
       "      <td>12</td>\n",
       "      <td>12</td>\n",
       "      <td>12</td>\n",
       "    </tr>\n",
       "    <tr>\n",
       "      <th>45</th>\n",
       "      <th>Program_committee</th>\n",
       "      <td>8</td>\n",
       "      <td>8</td>\n",
       "      <td>8</td>\n",
       "      <td>8</td>\n",
       "      <td>8</td>\n",
       "    </tr>\n",
       "    <tr>\n",
       "      <th>46</th>\n",
       "      <th>Organizing_committee</th>\n",
       "      <td>10</td>\n",
       "      <td>10</td>\n",
       "      <td>10</td>\n",
       "      <td>10</td>\n",
       "      <td>10</td>\n",
       "    </tr>\n",
       "    <tr>\n",
       "      <th>47</th>\n",
       "      <th>Conference</th>\n",
       "      <td>20</td>\n",
       "      <td>20</td>\n",
       "      <td>20</td>\n",
       "      <td>20</td>\n",
       "      <td>20</td>\n",
       "    </tr>\n",
       "    <tr>\n",
       "      <th>48</th>\n",
       "      <th>Important_dates</th>\n",
       "      <td>10</td>\n",
       "      <td>10</td>\n",
       "      <td>10</td>\n",
       "      <td>10</td>\n",
       "      <td>10</td>\n",
       "    </tr>\n",
       "    <tr>\n",
       "      <th>49</th>\n",
       "      <th>Conference_document</th>\n",
       "      <td>187</td>\n",
       "      <td>187</td>\n",
       "      <td>187</td>\n",
       "      <td>187</td>\n",
       "      <td>187</td>\n",
       "    </tr>\n",
       "    <tr>\n",
       "      <th>50</th>\n",
       "      <th>Organization</th>\n",
       "      <td>9</td>\n",
       "      <td>9</td>\n",
       "      <td>9</td>\n",
       "      <td>9</td>\n",
       "      <td>9</td>\n",
       "    </tr>\n",
       "    <tr>\n",
       "      <th>51</th>\n",
       "      <th>Invited_talk</th>\n",
       "      <td>7</td>\n",
       "      <td>7</td>\n",
       "      <td>7</td>\n",
       "      <td>7</td>\n",
       "      <td>7</td>\n",
       "    </tr>\n",
       "    <tr>\n",
       "      <th>52</th>\n",
       "      <th>Regular_contribution</th>\n",
       "      <td>33</td>\n",
       "      <td>33</td>\n",
       "      <td>33</td>\n",
       "      <td>33</td>\n",
       "      <td>33</td>\n",
       "    </tr>\n",
       "    <tr>\n",
       "      <th>53</th>\n",
       "      <th>Organizer</th>\n",
       "      <td>8</td>\n",
       "      <td>8</td>\n",
       "      <td>8</td>\n",
       "      <td>8</td>\n",
       "      <td>8</td>\n",
       "    </tr>\n",
       "    <tr>\n",
       "      <th>54</th>\n",
       "      <th>Topic</th>\n",
       "      <td>4</td>\n",
       "      <td>4</td>\n",
       "      <td>4</td>\n",
       "      <td>4</td>\n",
       "      <td>4</td>\n",
       "    </tr>\n",
       "    <tr>\n",
       "      <th>55</th>\n",
       "      <th>Late_paid_applicant</th>\n",
       "      <td>7</td>\n",
       "      <td>7</td>\n",
       "      <td>7</td>\n",
       "      <td>7</td>\n",
       "      <td>7</td>\n",
       "    </tr>\n",
       "    <tr>\n",
       "      <th>56</th>\n",
       "      <th>Passive_conference_participant</th>\n",
       "      <td>10</td>\n",
       "      <td>10</td>\n",
       "      <td>10</td>\n",
       "      <td>10</td>\n",
       "      <td>10</td>\n",
       "    </tr>\n",
       "    <tr>\n",
       "      <th>57</th>\n",
       "      <th>Call_for_paper</th>\n",
       "      <td>18</td>\n",
       "      <td>18</td>\n",
       "      <td>18</td>\n",
       "      <td>18</td>\n",
       "      <td>18</td>\n",
       "    </tr>\n",
       "    <tr>\n",
       "      <th>58</th>\n",
       "      <th>Conference_announcement</th>\n",
       "      <td>10</td>\n",
       "      <td>10</td>\n",
       "      <td>10</td>\n",
       "      <td>10</td>\n",
       "      <td>10</td>\n",
       "    </tr>\n",
       "  </tbody>\n",
       "</table>\n",
       "</div>"
      ],
      "text/plain": [
       "                                       nodeType  nodeLevel  loop  hop  path\n",
       "nodeId nodeName                                                            \n",
       "1      Conference_www                         9          9     9    9     9\n",
       "2      Active_conference_participant         10         10    10   10    10\n",
       "3      Contribution_1th-author                9          9     9    9     9\n",
       "4      Extended_abstract                     18         18    18   18    18\n",
       "5      Accepted_contribution                 16         16    16   16    16\n",
       "6      Conference_part                       34         34    34   34    34\n",
       "7      Track                                  8          8     8    8     8\n",
       "8      Paper                                  8          8     8    8     8\n",
       "9      Track-workshop_chair                  11         11    11   11    11\n",
       "10     Review_preference                      8          8     8    8     8\n",
       "11     Submitted_contribution                47         47    47   47    47\n",
       "12     Invited_speaker                       14         14    14   14    14\n",
       "13     Reviewer                               8          8     8    8     8\n",
       "14     Committee                             35         35    35   35    35\n",
       "15     Chair                                  8          8     8    8     8\n",
       "16     Review                                 4          4     4    4     4\n",
       "17     Information_for_participants           5          5     5    5     5\n",
       "18     Conference_applicant                  40         40    40   40    40\n",
       "19     Registeered_applicant                 34         34    34   34    34\n",
       "20     Rejected_contribution                 13         13    13   13    13\n",
       "21     Written_contribution                  88         88    88   88    88\n",
       "22     Early_paid_applicant                   8          8     8    8     8\n",
       "23     Conference_proceedings                 5          5     5    5     5\n",
       "24     Reviewed_contribution                 37         37    37   37    37\n",
       "25     Camera_ready_contribution              6          6     6    6     6\n",
       "26     Conference_participant                22         22    22   22    22\n",
       "27     Committee_member                      32         32    32   32    32\n",
       "28     Publisher                              3          3     3    3     3\n",
       "29     Review_expertise                      10         10    10   10    10\n",
       "30     Presentation                          17         17    17   17    17\n",
       "31     Conference_volume                      5          5     5    5     5\n",
       "32     Tutorial                               8          8     8    8     8\n",
       "33     Regular_author                        16         16    16   16    16\n",
       "34     Conference_contributor                43         43    43   43    43\n",
       "35     Abstract                              10         10    10   10    10\n",
       "36     Conference_fees                        4          4     4    4     4\n",
       "37     Paid_applicant                        25         25    25   25    25\n",
       "38     Workshop                               6          6     6    6     6\n",
       "39     Call_for_participation                11         11    11   11    11\n",
       "40     Person                               163        163   163  163   163\n",
       "41     Conference_contribution              123        123   123  123   123\n",
       "42     Poster                                 6          6     6    6     6\n",
       "43     Steering_committee                     6          6     6    6     6\n",
       "44     Co-chair                              12         12    12   12    12\n",
       "45     Program_committee                      8          8     8    8     8\n",
       "46     Organizing_committee                  10         10    10   10    10\n",
       "47     Conference                            20         20    20   20    20\n",
       "48     Important_dates                       10         10    10   10    10\n",
       "49     Conference_document                  187        187   187  187   187\n",
       "50     Organization                           9          9     9    9     9\n",
       "51     Invited_talk                           7          7     7    7     7\n",
       "52     Regular_contribution                  33         33    33   33    33\n",
       "53     Organizer                              8          8     8    8     8\n",
       "54     Topic                                  4          4     4    4     4\n",
       "55     Late_paid_applicant                    7          7     7    7     7\n",
       "56     Passive_conference_participant        10         10    10   10    10\n",
       "57     Call_for_paper                        18         18    18   18    18\n",
       "58     Conference_announcement               10         10    10   10    10"
      ]
     },
     "execution_count": 63,
     "metadata": {},
     "output_type": "execute_result"
    }
   ],
   "source": [
    "conf_path \n"
   ]
  },
  {
   "cell_type": "code",
   "execution_count": 64,
   "metadata": {},
   "outputs": [],
   "source": [
    "import pandas as pd\n",
    "import numpy as np\n",
    "import csv \n",
    "import string\n",
    "import nltk \n",
    "import re \n",
    "import time\n",
    "from sklearn.feature_extraction.text import CountVectorizer, TfidfVectorizer \n",
    "from nltk.corpus import stopwords \n",
    "from nltk.tokenize import word_tokenize \n",
    "import os\n",
    "import matplotlib.pyplot as plt\n",
    "import seaborn as sns\n",
    "from nltk.corpus import stopwords\n",
    "from nltk.stem.snowball import SnowballStemmer\n",
    "from sklearn.feature_extraction.text import CountVectorizer\n",
    "import sys\n",
    "import warnings\n",
    "from os import path\n",
    "import ast\n",
    "from PIL import Image\n",
    "from wordcloud import WordCloud, STOPWORDS, ImageColorGenerator\n",
    "from sklearn.model_selection import train_test_split\n",
    "from sklearn.feature_extraction.text import TfidfVectorizer\n",
    "from skmultilearn.problem_transform import BinaryRelevance\n",
    "from skmultilearn.problem_transform import LabelPowerset\n",
    "from skmultilearn.problem_transform import ClassifierChain\n",
    "from sklearn.preprocessing import MultiLabelBinarizer\n",
    "from sklearn.tree import DecisionTreeClassifier\n",
    "from sklearn.metrics import f1_score, average_precision_score, precision_recall_fscore_support\n",
    "from sklearn.metrics import accuracy_score\n",
    "from sklearn.metrics import multilabel_confusion_matrix\n",
    "from sklearn.metrics import accuracy_score\n",
    "from sklearn.metrics import zero_one_loss\n",
    "from sklearn.metrics import jaccard_score\n",
    "import sklearn.metrics as skm\n",
    "from sklearn.model_selection import train_test_split\n",
    "from sklearn.metrics import mean_squared_error\n",
    "from math import sqrt\n",
    "import numpy as np\n",
    "from sklearn.multiclass import OneVsRestClassifier\n",
    "from sklearn.neighbors import KNeighborsClassifier\n",
    "from sklearn.model_selection import cross_val_score\n",
    "from sklearn.model_selection import KFold\n",
    "import time\n",
    "from sklearn.model_selection import ShuffleSplit\n",
    "from sklearn.model_selection import StratifiedKFold\n",
    "from sklearn import model_selection\n",
    "from sklearn.linear_model import LogisticRegression\n",
    "from sklearn.metrics import precision_recall_curve\n",
    "from sklearn.metrics import average_precision_score\n",
    "from skmultilearn.adapt import MLkNN\n",
    "from sklearn.model_selection import GridSearchCV\n",
    "from sklearn.svm import LinearSVC\n",
    "from sklearn.neural_network import MLPClassifier\n",
    "from sklearn.ensemble import RandomForestClassifier\n",
    "from sklearn.naive_bayes import GaussianNB\n",
    "from skmultilearn.adapt import BRkNNaClassifier\n",
    "from sklearn.linear_model import RidgeClassifierCV\n",
    "\n",
    "pd.options.display.max_seq_items = 2000\n",
    "pd.options.display.max_colwidth = 90\n",
    "pd.options.display.max_rows = 999\n",
    "\n",
    "loggingFile = './experiment//TitleBody3GramTFIDF.txt'\n",
    "binaryBodyTitle = './experiment/binaryBodyTitle.csv'\n",
    "template = './experiment/dfTeste.csv'"
   ]
  },
  {
   "cell_type": "code",
   "execution_count": 65,
   "metadata": {},
   "outputs": [
    {
     "data": {
      "text/html": [
       "<div>\n",
       "<style scoped>\n",
       "    .dataframe tbody tr th:only-of-type {\n",
       "        vertical-align: middle;\n",
       "    }\n",
       "\n",
       "    .dataframe tbody tr th {\n",
       "        vertical-align: top;\n",
       "    }\n",
       "\n",
       "    .dataframe thead th {\n",
       "        text-align: right;\n",
       "    }\n",
       "</style>\n",
       "<table border=\"1\" class=\"dataframe\">\n",
       "  <thead>\n",
       "    <tr style=\"text-align: right;\">\n",
       "      <th></th>\n",
       "      <th>nodeNumber</th>\n",
       "      <th>node</th>\n",
       "      <th>visits</th>\n",
       "      <th>paths</th>\n",
       "    </tr>\n",
       "  </thead>\n",
       "  <tbody>\n",
       "    <tr>\n",
       "      <th>0</th>\n",
       "      <td>0</td>\n",
       "      <td>Contribution_co-author</td>\n",
       "      <td>0</td>\n",
       "      <td></td>\n",
       "    </tr>\n",
       "    <tr>\n",
       "      <th>1</th>\n",
       "      <td>1</td>\n",
       "      <td>Conference_www</td>\n",
       "      <td>9</td>\n",
       "      <td>Conference_www Conference_www Conference_www Conference_www Conference_www Conferenc...</td>\n",
       "    </tr>\n",
       "    <tr>\n",
       "      <th>2</th>\n",
       "      <td>2</td>\n",
       "      <td>Active_conference_participant</td>\n",
       "      <td>10</td>\n",
       "      <td>Active_conference_participant Active_conference_participant Active_conference_partic...</td>\n",
       "    </tr>\n",
       "    <tr>\n",
       "      <th>3</th>\n",
       "      <td>3</td>\n",
       "      <td>Contribution_1th-author</td>\n",
       "      <td>9</td>\n",
       "      <td>Contribution_1th-author Contribution_1th-author Contribution_1th-author Contribution...</td>\n",
       "    </tr>\n",
       "    <tr>\n",
       "      <th>4</th>\n",
       "      <td>4</td>\n",
       "      <td>Extended_abstract</td>\n",
       "      <td>18</td>\n",
       "      <td>Abstract Extended_abstract Abstract Extended_abstract Abstract Extended_abstract Ext...</td>\n",
       "    </tr>\n",
       "  </tbody>\n",
       "</table>\n",
       "</div>"
      ],
      "text/plain": [
       "   nodeNumber                           node  visits  \\\n",
       "0           0         Contribution_co-author       0   \n",
       "1           1                 Conference_www       9   \n",
       "2           2  Active_conference_participant      10   \n",
       "3           3        Contribution_1th-author       9   \n",
       "4           4              Extended_abstract      18   \n",
       "\n",
       "                                                                                       paths  \n",
       "0                                                                                             \n",
       "1    Conference_www Conference_www Conference_www Conference_www Conference_www Conferenc...  \n",
       "2    Active_conference_participant Active_conference_participant Active_conference_partic...  \n",
       "3    Contribution_1th-author Contribution_1th-author Contribution_1th-author Contribution...  \n",
       "4    Abstract Extended_abstract Abstract Extended_abstract Abstract Extended_abstract Ext...  "
      ]
     },
     "execution_count": 65,
     "metadata": {},
     "output_type": "execute_result"
    }
   ],
   "source": [
    "data_classes.head()"
   ]
  },
  {
   "cell_type": "code",
   "execution_count": 66,
   "metadata": {},
   "outputs": [],
   "source": [
    "#TF-ID\n",
    "def run_tf_idf(data, configurationTFIDF, num_feature, tfIDFoutputFile):\n",
    "    #we need to text max_feature with 10, 20, 25, 50 \n",
    "    #, max_features=num_feature\n",
    "    vectorizer = TfidfVectorizer(strip_accents='unicode', analyzer='word', ngram_range = configurationTFIDF, max_features=num_feature)\n",
    "        \n",
    "    tf_idf_results = vectorizer.fit_transform(data['paths'])\n",
    "\n",
    "    features = vectorizer.get_feature_names()\n",
    "\n",
    "    print(features)\n",
    "\n",
    "    scores = (tf_idf_results.toarray())\n",
    "    output_tf_idf = pd.DataFrame(scores)\n",
    "    \n",
    "    output_tf_idf = pd.concat([data['nodeNumber'], output_tf_idf], axis=1)\n",
    "\n",
    "    output_tf_idf.to_csv(tfIDFoutputFile, encoding='utf-8', header=False, index=False, sep=',')\n",
    "\n",
    "\n",
    "    # remove words occuring less than 5 times\n",
    "    #tfidf = TfidfVectorizer(min_df=5)\n",
    "    #you can also remove common words:\n",
    "\n",
    "    # remove words occuring in more than half the documents\n",
    "    #tfidf = TfidfVectorizer(max_df=0.5)\n",
    "    #you can also remove stopwords like this:\n",
    "    "
   ]
  },
  {
   "cell_type": "code",
   "execution_count": 67,
   "metadata": {},
   "outputs": [
    {
     "name": "stdout",
     "output_type": "stream",
     "text": [
      "['abstract', 'accepted_contribution', 'camera_ready_contribution', 'chair', 'committee_member', 'conference_applicant', 'conference_contribution', 'conference_contributor', 'conference_document', 'conference_participant', 'early_paid_applicant', 'extended_abstract', 'invited_speaker', 'paid_applicant', 'paper', 'person', 'presentation', 'registeered_applicant', 'regular_author', 'regular_contribution', 'rejected_contribution', 'reviewed_contribution', 'submitted_contribution', 'track', 'written_contribution']\n"
     ]
    }
   ],
   "source": [
    "run_tf_idf(data_classes, (1,1), 25, './visits/data/tfIDFConference.csv')"
   ]
  },
  {
   "cell_type": "code",
   "execution_count": 68,
   "metadata": {},
   "outputs": [],
   "source": [
    "#analyzing frequency of TOP 50 terms\n",
    "\n",
    "def analyze_top(data, termFrequencyTop50):\n",
    "    docs = data['paths'].tolist()\n",
    "\n",
    "    cv = CountVectorizer()\n",
    "    cv_fit=cv.fit_transform(docs)\n",
    "\n",
    "    #print(cv.get_feature_names())\n",
    "    #print(cv_fit.toarray())\n",
    "\n",
    "    word_list = cv.get_feature_names()   \n",
    "\n",
    "    count_list = cv_fit.toarray().sum(axis=0)\n",
    "    term_frequency = dict(zip(word_list,count_list))\n",
    "\n",
    "    a = sorted(term_frequency.items(), key=lambda x: x[1], reverse=True) \n",
    "\n",
    "    top50 = a[:100]\n",
    "    df_frequency = pd.DataFrame(top50, columns =['term', 'frequency'])  \n",
    "\n",
    "    print(df_frequency)\n",
    "\n",
    "    df_frequency.to_csv(termFrequencyTop50, encoding='utf-8', header=False, index=False, sep=',')\n",
    "\n",
    "    sns.set(font_scale = 2)\n",
    "    plt.figure(figsize=(18,17))\n",
    "    plt.xticks(rotation=90)\n",
    "    plt.title(\"Frequency of terms \")\n",
    "    plt.ylabel('term', fontsize=20)\n",
    "    plt.xlabel('frequency', fontsize=20)\n",
    "    ax = sns.barplot(x=\"frequency\", y=\"term\", data=df_frequency)\n",
    "    \n",
    "    return docs\n"
   ]
  },
  {
   "cell_type": "code",
   "execution_count": 69,
   "metadata": {},
   "outputs": [
    {
     "name": "stdout",
     "output_type": "stream",
     "text": [
      "                              term  frequency\n",
      "0             written_contribution        264\n",
      "1          conference_contribution        246\n",
      "2           submitted_contribution        188\n",
      "3              conference_document        187\n",
      "4            reviewed_contribution        185\n",
      "5                           person        163\n",
      "6             regular_contribution        132\n",
      "7            registeered_applicant        102\n",
      "8                   paid_applicant        100\n",
      "9            accepted_contribution         96\n",
      "10               extended_abstract         90\n",
      "11          conference_contributor         86\n",
      "12            conference_applicant         80\n",
      "13           rejected_contribution         78\n",
      "14                committee_member         64\n",
      "15                        abstract         60\n",
      "16                           chair         60\n",
      "17                    presentation         51\n",
      "18                  regular_author         48\n",
      "19          conference_participant         44\n",
      "20       camera_ready_contribution         42\n",
      "21                 invited_speaker         42\n",
      "22            early_paid_applicant         40\n",
      "23                           paper         40\n",
      "24                           track         38\n",
      "25                          author         36\n",
      "26                  call_for_paper         36\n",
      "27                              co         36\n",
      "28                contribution_1th         36\n",
      "29                       committee         35\n",
      "30             late_paid_applicant         35\n",
      "31                 conference_part         34\n",
      "32   active_conference_participant         30\n",
      "33  passive_conference_participant         30\n",
      "34                    invited_talk         28\n",
      "35          call_for_participation         22\n",
      "36                  workshop_chair         22\n",
      "37                      conference         20\n",
      "38         conference_announcement         20\n",
      "39            organizing_committee         20\n",
      "40                  conference_www         18\n",
      "41                          poster         18\n",
      "42               program_committee         16\n",
      "43                        reviewer         16\n",
      "44                        tutorial         16\n",
      "45              steering_committee         12\n",
      "46                        workshop         12\n",
      "47               conference_volume         10\n",
      "48                 important_dates         10\n",
      "49    information_for_participants         10\n",
      "50                review_expertise         10\n",
      "51                    organization          9\n",
      "52                       organizer          8\n",
      "53                          review          8\n",
      "54               review_preference          8\n",
      "55          conference_proceedings          5\n",
      "56                 conference_fees          4\n",
      "57                           topic          4\n",
      "58                       publisher          3\n"
     ]
    },
    {
     "data": {
      "image/png": "[encoded data removed]",
      "text/plain": [
       "<Figure size 1296x1224 with 1 Axes>"
      ]
     },
     "metadata": {},
     "output_type": "display_data"
    }
   ],
   "source": [
    "docs = analyze_top(data_classes, './visits/data/termFrequencyTop50Conference.csv')"
   ]
  },
  {
   "cell_type": "code",
   "execution_count": null,
   "metadata": {},
   "outputs": [],
   "source": []
  },
  {
   "cell_type": "code",
   "execution_count": null,
   "metadata": {},
   "outputs": [],
   "source": []
  },
  {
   "cell_type": "code",
   "execution_count": null,
   "metadata": {},
   "outputs": [],
   "source": []
  },
  {
   "cell_type": "code",
   "execution_count": null,
   "metadata": {},
   "outputs": [],
   "source": []
  },
  {
   "cell_type": "code",
   "execution_count": null,
   "metadata": {},
   "outputs": [],
   "source": []
  },
  {
   "cell_type": "code",
   "execution_count": null,
   "metadata": {},
   "outputs": [],
   "source": []
  },
  {
   "cell_type": "code",
   "execution_count": null,
   "metadata": {},
   "outputs": [],
   "source": []
  },
  {
   "cell_type": "code",
   "execution_count": null,
   "metadata": {},
   "outputs": [],
   "source": []
  },
  {
   "cell_type": "code",
   "execution_count": null,
   "metadata": {},
   "outputs": [],
   "source": []
  },
  {
   "cell_type": "code",
   "execution_count": null,
   "metadata": {},
   "outputs": [],
   "source": []
  },
  {
   "cell_type": "code",
   "execution_count": null,
   "metadata": {},
   "outputs": [],
   "source": []
  },
  {
   "cell_type": "code",
   "execution_count": null,
   "metadata": {},
   "outputs": [],
   "source": []
  },
  {
   "cell_type": "code",
   "execution_count": null,
   "metadata": {},
   "outputs": [],
   "source": []
  },
  {
   "cell_type": "code",
   "execution_count": null,
   "metadata": {},
   "outputs": [],
   "source": []
  },
  {
   "cell_type": "code",
   "execution_count": null,
   "metadata": {},
   "outputs": [],
   "source": []
  },
  {
   "cell_type": "code",
   "execution_count": null,
   "metadata": {},
   "outputs": [],
   "source": []
  }
 ],
 "metadata": {
  "kernelspec": {
   "display_name": "Python 3",
   "language": "python",
   "name": "python3"
  },
  "language_info": {
   "codemirror_mode": {
    "name": "ipython",
    "version": 3
   },
   "file_extension": ".py",
   "mimetype": "text/x-python",
   "name": "python",
   "nbconvert_exporter": "python",
   "pygments_lexer": "ipython3",
   "version": "3.7.6"
  }
 },
 "nbformat": 4,
 "nbformat_minor": 2
}
