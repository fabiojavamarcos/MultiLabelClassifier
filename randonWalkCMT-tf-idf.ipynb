{
 "cells": [
  {
   "cell_type": "code",
   "execution_count": 1,
   "metadata": {},
   "outputs": [
    {
     "data": {
      "text/plain": [
       "['nodeNumber', 'node', 'visits', 'paths']"
      ]
     },
     "execution_count": 1,
     "metadata": {},
     "output_type": "execute_result"
    }
   ],
   "source": [
    "import csv\n",
    "data_file = csv.DictReader(open(\"./visits/data/visits_CMT.owl_class_500.csv\", \"r\"))\n",
    "data_file.fieldnames\n"
   ]
  },
  {
   "cell_type": "code",
   "execution_count": 2,
   "metadata": {},
   "outputs": [
    {
     "data": {
      "text/plain": [
       "{'nodeNumber': [], 'node': [], 'visits': [], 'paths': []}"
      ]
     },
     "execution_count": 2,
     "metadata": {},
     "output_type": "execute_result"
    }
   ],
   "source": [
    "data = {}\n",
    "for column in data_file.fieldnames:\n",
    "    data[column] = []\n",
    "data\n"
   ]
  },
  {
   "cell_type": "code",
   "execution_count": 3,
   "metadata": {},
   "outputs": [
    {
     "data": {
      "text/plain": [
       "33"
      ]
     },
     "execution_count": 3,
     "metadata": {},
     "output_type": "execute_result"
    }
   ],
   "source": [
    "for row in data_file:\n",
    "    for column in data.keys():\n",
    "        data[column].append(row[column])\n",
    "\n",
    "len(data['node'])\n"
   ]
  },
  {
   "cell_type": "code",
   "execution_count": null,
   "metadata": {},
   "outputs": [],
   "source": []
  },
  {
   "cell_type": "code",
   "execution_count": 5,
   "metadata": {},
   "outputs": [
    {
     "data": {
      "text/plain": [
       "'87'"
      ]
     },
     "execution_count": 5,
     "metadata": {},
     "output_type": "execute_result"
    }
   ],
   "source": [
    "top_visits = max(data['visits'])\n",
    "top_visits"
   ]
  },
  {
   "cell_type": "code",
   "execution_count": null,
   "metadata": {},
   "outputs": [],
   "source": [
    "\n"
   ]
  },
  {
   "cell_type": "code",
   "execution_count": 7,
   "metadata": {},
   "outputs": [],
   "source": [
    "visits_int = []\n",
    "for visit in data['visits']:\n",
    "    visits_int.append(int(visit))"
   ]
  },
  {
   "cell_type": "code",
   "execution_count": 8,
   "metadata": {},
   "outputs": [
    {
     "data": {
      "text/plain": [
       "int"
      ]
     },
     "execution_count": 8,
     "metadata": {},
     "output_type": "execute_result"
    }
   ],
   "source": [
    "data['visits'] = visits_int\n",
    "type(data['visits'][0])"
   ]
  },
  {
   "cell_type": "code",
   "execution_count": null,
   "metadata": {},
   "outputs": [],
   "source": []
  },
  {
   "cell_type": "code",
   "execution_count": null,
   "metadata": {},
   "outputs": [],
   "source": []
  },
  {
   "cell_type": "code",
   "execution_count": 10,
   "metadata": {},
   "outputs": [
    {
     "data": {
      "text/plain": [
       "227"
      ]
     },
     "execution_count": 10,
     "metadata": {},
     "output_type": "execute_result"
    }
   ],
   "source": [
    "top_visits = max(data['visits'])\n",
    "top_visits\n"
   ]
  },
  {
   "cell_type": "code",
   "execution_count": null,
   "metadata": {},
   "outputs": [],
   "source": []
  },
  {
   "cell_type": "code",
   "execution_count": 12,
   "metadata": {},
   "outputs": [
    {
     "name": "stdout",
     "output_type": "stream",
     "text": [
      "32.5\n"
     ]
    }
   ],
   "source": [
    "# iniciaremos variáveis para nos ajudar no cálculo\n",
    "sum_visits = 0\n",
    "total_visits = 0\n",
    "\n",
    "for visit in data['visits']:\n",
    "    # temos idades não informadas! vamos nos certificar que estamos contando apenas\n",
    "    # pessoas que temos certeza de suas idades!\n",
    "    if visit != -1:\n",
    "        # incrementamos então a idade ao somatório de idades\n",
    "        sum_visits += visit\n",
    "        # e incrementamos 1 no total de idades\n",
    "        total_visits += 1\n",
    "\n",
    "# calculamos a média\n",
    "visits_mean = sum_visits / total_visits\n",
    "\n",
    "# arredondamos usando uma função built-in do Python\n",
    "print(round(visits_mean, 1))"
   ]
  },
  {
   "cell_type": "code",
   "execution_count": null,
   "metadata": {},
   "outputs": [],
   "source": []
  },
  {
   "cell_type": "code",
   "execution_count": 14,
   "metadata": {},
   "outputs": [
    {
     "name": "stdout",
     "output_type": "stream",
     "text": [
      "contei: Co-author\n",
      "0\n",
      "0\n",
      "contei: User\n",
      "1\n",
      "73\n",
      "contei: ProgramCommittee\n",
      "2\n",
      "20\n",
      "contei: AuthorNotReviewer\n",
      "3\n",
      "15\n",
      "contei: Conference\n",
      "4\n",
      "6\n",
      "contei: SubjectArea\n",
      "5\n",
      "13\n",
      "contei: PaperFullVersion\n",
      "6\n",
      "25\n",
      "contei: Document\n",
      "7\n",
      "66\n",
      "contei: ProgramCommitteeMember\n",
      "8\n",
      "33\n",
      "contei: ConferenceMember\n",
      "9\n",
      "87\n",
      "contei: Acceptance\n",
      "10\n",
      "17\n",
      "contei: Administrator\n",
      "11\n",
      "23\n",
      "contei: ProgramCommitteeChair\n",
      "12\n",
      "19\n",
      "contei: Review\n",
      "13\n",
      "40\n",
      "contei: Reviewer\n",
      "14\n",
      "30\n",
      "contei: Bid\n",
      "15\n",
      "13\n",
      "contei: Meta-Review\n",
      "16\n",
      "21\n",
      "contei: ExternalReviewer\n",
      "17\n",
      "21\n",
      "contei: Chairman\n",
      "18\n",
      "13\n",
      "contei: Paper\n",
      "19\n",
      "53\n",
      "contei: Author\n",
      "20\n",
      "30\n",
      "contei: AssociatedChair\n",
      "21\n",
      "13\n",
      "contei: Person\n",
      "22\n",
      "227\n",
      "contei: Preference\n",
      "23\n",
      "18\n",
      "contei: Decision\n",
      "24\n",
      "49\n",
      "contei: ConferenceChair\n",
      "25\n",
      "17\n",
      "contei: Rejection\n",
      "26\n",
      "13\n",
      "contei: Meta-Reviewer\n",
      "27\n",
      "13\n",
      "contei: PaperAbstract\n",
      "28\n",
      "15\n",
      "descartei--->bjectMinCardinality(0 <http://cmt/hasDecision> owl:Thing\n",
      "22\n",
      "descartei--->bjectMinCardinality(1 <http://cmt/readByReviewer> owl:Thing\n",
      "23\n",
      "descartei--->bjectComplementOf(ObjectMinCardinality(2 <http://cmt/hasDecision> owl:Thing)\n",
      "26\n",
      "descartei--->bjectComplementOf(ObjectMinCardinality(2 <http://cmt/readByMeta-Reviewer> owl:Thing)\n",
      "17\n",
      "983\n",
      "29\n",
      "33.89655172413793\n"
     ]
    }
   ],
   "source": [
    "# iniciaremos variáveis para nos ajudar no cálculo\n",
    "sum_visits = 0\n",
    "total_visits = 0\n",
    "# list de visitas\n",
    "visits = data[\"visits\"]\n",
    "nodes_c = []\n",
    "visits_c = []\n",
    "data_conceitos = {\"node_c\" : [],\n",
    "                 \"visit_c\" : []}\n",
    "for idx, node in enumerate (data[\"node\"]):\n",
    "    # vamos varrer o dicionario de nós pegando apenas os nós de conceitos\n",
    "    if node.find(\"<\") == -1 and node.find(\"~\") == -1:\n",
    "        print(\"contei: \"+node)\n",
    "        \n",
    "        for i, visit in enumerate (visits):\n",
    "            if i == idx:\n",
    "                print ( i)\n",
    "                print (visit)\n",
    "                sum_visits += visit\n",
    "                # e incrementamos 1 no total de visitas\n",
    "                total_visits += 1\n",
    "                nodes_c.append(node)\n",
    "                visits_c.append(visit)\n",
    "                \n",
    "    else:\n",
    "        print(\"descartei--->\"+node)\n",
    "        print(data[\"visits\"][idx])\n",
    "\n",
    "data_conceitos[\"node_c\"] = nodes_c\n",
    "data_conceitos[\"visit_c\"] = visits_c\n",
    "\n",
    "# calculamos a média\n",
    "visits_mean = sum_visits / total_visits\n",
    "\n",
    "# arredondamos usando uma função built-in do Python\n",
    "#print(round(visits_mean, 1))\n",
    "print (sum_visits)\n",
    "print (total_visits)\n",
    "print (visits_mean)"
   ]
  },
  {
   "cell_type": "code",
   "execution_count": null,
   "metadata": {},
   "outputs": [],
   "source": []
  },
  {
   "cell_type": "code",
   "execution_count": null,
   "metadata": {},
   "outputs": [],
   "source": []
  },
  {
   "cell_type": "code",
   "execution_count": 17,
   "metadata": {},
   "outputs": [],
   "source": [
    "%matplotlib inline \n",
    "#comando para dizer pro Jupyter exibir os gráficos\n",
    "import seaborn as sns #pacote grafico que deixa as coisas mais bonitas :)\n"
   ]
  },
  {
   "cell_type": "code",
   "execution_count": 18,
   "metadata": {},
   "outputs": [
    {
     "data": {
      "text/plain": [
       "<matplotlib.axes._subplots.AxesSubplot at 0x1081c3cd0>"
      ]
     },
     "execution_count": 18,
     "metadata": {},
     "output_type": "execute_result"
    },
    {
     "data": {
      "image/png": "[encoded data removed]",
      "text/plain": [
       "<Figure size 432x288 with 1 Axes>"
      ]
     },
     "metadata": {
      "needs_background": "light"
     },
     "output_type": "display_data"
    }
   ],
   "source": [
    "sns.countplot(data[\"visits\"])"
   ]
  },
  {
   "cell_type": "code",
   "execution_count": null,
   "metadata": {},
   "outputs": [],
   "source": []
  },
  {
   "cell_type": "code",
   "execution_count": 19,
   "metadata": {},
   "outputs": [
    {
     "data": {
      "text/html": [
       "<div>\n",
       "<style scoped>\n",
       "    .dataframe tbody tr th:only-of-type {\n",
       "        vertical-align: middle;\n",
       "    }\n",
       "\n",
       "    .dataframe tbody tr th {\n",
       "        vertical-align: top;\n",
       "    }\n",
       "\n",
       "    .dataframe thead th {\n",
       "        text-align: right;\n",
       "    }\n",
       "</style>\n",
       "<table border=\"1\" class=\"dataframe\">\n",
       "  <thead>\n",
       "    <tr style=\"text-align: right;\">\n",
       "      <th></th>\n",
       "      <th>nodeNumber</th>\n",
       "      <th>node</th>\n",
       "      <th>visits</th>\n",
       "      <th>paths</th>\n",
       "    </tr>\n",
       "  </thead>\n",
       "  <tbody>\n",
       "    <tr>\n",
       "      <th>0</th>\n",
       "      <td>0</td>\n",
       "      <td>Co-author</td>\n",
       "      <td>0</td>\n",
       "      <td></td>\n",
       "    </tr>\n",
       "    <tr>\n",
       "      <th>1</th>\n",
       "      <td>1</td>\n",
       "      <td>User</td>\n",
       "      <td>73</td>\n",
       "      <td>User Meta-Reviewer Reviewer User AuthorNotRe...</td>\n",
       "    </tr>\n",
       "    <tr>\n",
       "      <th>2</th>\n",
       "      <td>2</td>\n",
       "      <td>ProgramCommittee</td>\n",
       "      <td>20</td>\n",
       "      <td>ProgramCommittee ProgramCommittee ProgramCom...</td>\n",
       "    </tr>\n",
       "    <tr>\n",
       "      <th>3</th>\n",
       "      <td>3</td>\n",
       "      <td>AuthorNotReviewer</td>\n",
       "      <td>15</td>\n",
       "      <td>AuthorNotReviewer AuthorNotReviewer AuthorNo...</td>\n",
       "    </tr>\n",
       "    <tr>\n",
       "      <th>4</th>\n",
       "      <td>4</td>\n",
       "      <td>Conference</td>\n",
       "      <td>6</td>\n",
       "      <td>Conference Conference Conference Conference ...</td>\n",
       "    </tr>\n",
       "  </tbody>\n",
       "</table>\n",
       "</div>"
      ],
      "text/plain": [
       "   nodeNumber               node  visits  \\\n",
       "0           0          Co-author       0   \n",
       "1           1               User      73   \n",
       "2           2   ProgramCommittee      20   \n",
       "3           3  AuthorNotReviewer      15   \n",
       "4           4         Conference       6   \n",
       "\n",
       "                                               paths  \n",
       "0                                                     \n",
       "1    User Meta-Reviewer Reviewer User AuthorNotRe...  \n",
       "2    ProgramCommittee ProgramCommittee ProgramCom...  \n",
       "3    AuthorNotReviewer AuthorNotReviewer AuthorNo...  \n",
       "4    Conference Conference Conference Conference ...  "
      ]
     },
     "execution_count": 19,
     "metadata": {},
     "output_type": "execute_result"
    }
   ],
   "source": [
    "import pandas as pd\n",
    "import matplotlib.pyplot as plt\n",
    "data_classes = pd.read_csv('./visits/data/visits_CMT.owl_class_500.csv', header = 0, sep=\",\")\n",
    "order = pd.read_csv('./visits/data/visits_Order_CMT.owl_class_500.csv', header = 0, sep=\",\")\n",
    "ant = pd.read_csv('./visits/data/visits_ant_CMT.owl_class_500.csv', header = 0, sep=\",\")\n",
    "data_classes.head()"
   ]
  },
  {
   "cell_type": "code",
   "execution_count": 20,
   "metadata": {},
   "outputs": [
    {
     "data": {
      "text/html": [
       "<div>\n",
       "<style scoped>\n",
       "    .dataframe tbody tr th:only-of-type {\n",
       "        vertical-align: middle;\n",
       "    }\n",
       "\n",
       "    .dataframe tbody tr th {\n",
       "        vertical-align: top;\n",
       "    }\n",
       "\n",
       "    .dataframe thead th {\n",
       "        text-align: right;\n",
       "    }\n",
       "</style>\n",
       "<table border=\"1\" class=\"dataframe\">\n",
       "  <thead>\n",
       "    <tr style=\"text-align: right;\">\n",
       "      <th></th>\n",
       "      <th>nodeId</th>\n",
       "      <th>nodeName</th>\n",
       "      <th>nodeType</th>\n",
       "      <th>nodeLevel</th>\n",
       "      <th>loop</th>\n",
       "      <th>hop</th>\n",
       "      <th>path</th>\n",
       "    </tr>\n",
       "  </thead>\n",
       "  <tbody>\n",
       "    <tr>\n",
       "      <th>0</th>\n",
       "      <td>28</td>\n",
       "      <td>PaperAbstract</td>\n",
       "      <td>Class</td>\n",
       "      <td>-1</td>\n",
       "      <td>0</td>\n",
       "      <td>0</td>\n",
       "      <td>PaperAbstract</td>\n",
       "    </tr>\n",
       "    <tr>\n",
       "      <th>1</th>\n",
       "      <td>19</td>\n",
       "      <td>Paper</td>\n",
       "      <td>Class</td>\n",
       "      <td>-1</td>\n",
       "      <td>0</td>\n",
       "      <td>1</td>\n",
       "      <td>PaperAbstract Paper</td>\n",
       "    </tr>\n",
       "    <tr>\n",
       "      <th>2</th>\n",
       "      <td>31</td>\n",
       "      <td>bjectComplementOf(ObjectMinCardinality(2 &lt;http...</td>\n",
       "      <td>RestrictionComplementOfRestrictionCardinality</td>\n",
       "      <td>-1</td>\n",
       "      <td>0</td>\n",
       "      <td>2</td>\n",
       "      <td>PaperAbstract Paper hasDecision owl:Thing</td>\n",
       "    </tr>\n",
       "    <tr>\n",
       "      <th>3</th>\n",
       "      <td>22</td>\n",
       "      <td>Person</td>\n",
       "      <td>Class</td>\n",
       "      <td>-1</td>\n",
       "      <td>1</td>\n",
       "      <td>0</td>\n",
       "      <td>Person</td>\n",
       "    </tr>\n",
       "    <tr>\n",
       "      <th>4</th>\n",
       "      <td>17</td>\n",
       "      <td>ExternalReviewer</td>\n",
       "      <td>Class</td>\n",
       "      <td>-1</td>\n",
       "      <td>2</td>\n",
       "      <td>0</td>\n",
       "      <td>ExternalReviewer</td>\n",
       "    </tr>\n",
       "  </tbody>\n",
       "</table>\n",
       "</div>"
      ],
      "text/plain": [
       "   nodeId                                           nodeName  \\\n",
       "0      28                                      PaperAbstract   \n",
       "1      19                                              Paper   \n",
       "2      31  bjectComplementOf(ObjectMinCardinality(2 <http...   \n",
       "3      22                                             Person   \n",
       "4      17                                   ExternalReviewer   \n",
       "\n",
       "                                        nodeType  nodeLevel  loop  hop  \\\n",
       "0                                          Class         -1     0    0   \n",
       "1                                          Class         -1     0    1   \n",
       "2  RestrictionComplementOfRestrictionCardinality         -1     0    2   \n",
       "3                                          Class         -1     1    0   \n",
       "4                                          Class         -1     2    0   \n",
       "\n",
       "                                        path  \n",
       "0                              PaperAbstract  \n",
       "1                        PaperAbstract Paper  \n",
       "2  PaperAbstract Paper hasDecision owl:Thing  \n",
       "3                                     Person  \n",
       "4                           ExternalReviewer  "
      ]
     },
     "execution_count": 20,
     "metadata": {},
     "output_type": "execute_result"
    }
   ],
   "source": [
    "order.head()\n"
   ]
  },
  {
   "cell_type": "code",
   "execution_count": 21,
   "metadata": {},
   "outputs": [
    {
     "data": {
      "text/html": [
       "<div>\n",
       "<style scoped>\n",
       "    .dataframe tbody tr th:only-of-type {\n",
       "        vertical-align: middle;\n",
       "    }\n",
       "\n",
       "    .dataframe tbody tr th {\n",
       "        vertical-align: top;\n",
       "    }\n",
       "\n",
       "    .dataframe thead th {\n",
       "        text-align: right;\n",
       "    }\n",
       "</style>\n",
       "<table border=\"1\" class=\"dataframe\">\n",
       "  <thead>\n",
       "    <tr style=\"text-align: right;\">\n",
       "      <th></th>\n",
       "      <th>rootId</th>\n",
       "      <th>root</th>\n",
       "      <th>childId</th>\n",
       "      <th>child</th>\n",
       "      <th>incremental visits</th>\n",
       "    </tr>\n",
       "  </thead>\n",
       "  <tbody>\n",
       "    <tr>\n",
       "      <th>28</th>\n",
       "      <td>PaperAbstract</td>\n",
       "      <td>19</td>\n",
       "      <td>Paper</td>\n",
       "      <td>1</td>\n",
       "      <td>PaperAbstract Paper</td>\n",
       "    </tr>\n",
       "    <tr>\n",
       "      <th>19</th>\n",
       "      <td>Paper</td>\n",
       "      <td>31</td>\n",
       "      <td>bjectComplementOf(ObjectMinCardinality(2 &lt;http...</td>\n",
       "      <td>1</td>\n",
       "      <td>PaperAbstract Paper hasDecision owl:Thing</td>\n",
       "    </tr>\n",
       "    <tr>\n",
       "      <th>17</th>\n",
       "      <td>ExternalReviewer</td>\n",
       "      <td>22</td>\n",
       "      <td>Person</td>\n",
       "      <td>2</td>\n",
       "      <td>ExternalReviewer Person</td>\n",
       "    </tr>\n",
       "    <tr>\n",
       "      <th>1</th>\n",
       "      <td>User</td>\n",
       "      <td>22</td>\n",
       "      <td>Person</td>\n",
       "      <td>3</td>\n",
       "      <td>User Person</td>\n",
       "    </tr>\n",
       "    <tr>\n",
       "      <th>27</th>\n",
       "      <td>Meta-Reviewer</td>\n",
       "      <td>14</td>\n",
       "      <td>Reviewer</td>\n",
       "      <td>1</td>\n",
       "      <td>Meta-Reviewer Reviewer</td>\n",
       "    </tr>\n",
       "  </tbody>\n",
       "</table>\n",
       "</div>"
      ],
      "text/plain": [
       "              rootId  root                                            childId  \\\n",
       "28     PaperAbstract    19                                              Paper   \n",
       "19             Paper    31  bjectComplementOf(ObjectMinCardinality(2 <http...   \n",
       "17  ExternalReviewer    22                                             Person   \n",
       "1               User    22                                             Person   \n",
       "27     Meta-Reviewer    14                                           Reviewer   \n",
       "\n",
       "    child                         incremental visits  \n",
       "28      1                        PaperAbstract Paper  \n",
       "19      1  PaperAbstract Paper hasDecision owl:Thing  \n",
       "17      2                    ExternalReviewer Person  \n",
       "1       3                                User Person  \n",
       "27      1                     Meta-Reviewer Reviewer  "
      ]
     },
     "execution_count": 21,
     "metadata": {},
     "output_type": "execute_result"
    }
   ],
   "source": [
    "ant.head()"
   ]
  },
  {
   "cell_type": "code",
   "execution_count": 22,
   "metadata": {},
   "outputs": [
    {
     "data": {
      "text/plain": [
       "<matplotlib.axes._subplots.AxesSubplot at 0x1a1d327590>"
      ]
     },
     "execution_count": 22,
     "metadata": {},
     "output_type": "execute_result"
    },
    {
     "data": {
      "image/png": "[encoded data removed]",
      "text/plain": [
       "<Figure size 432x288 with 1 Axes>"
      ]
     },
     "metadata": {
      "needs_background": "light"
     },
     "output_type": "display_data"
    }
   ],
   "source": [
    "sns.countplot(order[\"nodeId\"])"
   ]
  },
  {
   "cell_type": "code",
   "execution_count": 23,
   "metadata": {},
   "outputs": [
    {
     "data": {
      "text/plain": [
       "<matplotlib.axes._subplots.AxesSubplot at 0x1a1d5b2750>"
      ]
     },
     "execution_count": 23,
     "metadata": {},
     "output_type": "execute_result"
    },
    {
     "data": {
      "image/png": "[encoded data removed]",
      "text/plain": [
       "<Figure size 432x288 with 1 Axes>"
      ]
     },
     "metadata": {
      "needs_background": "light"
     },
     "output_type": "display_data"
    }
   ],
   "source": [
    "sns.countplot(order[\"hop\"])"
   ]
  },
  {
   "cell_type": "code",
   "execution_count": 24,
   "metadata": {},
   "outputs": [
    {
     "data": {
      "text/plain": [
       "<matplotlib.axes._subplots.AxesSubplot at 0x1a1d714f50>"
      ]
     },
     "execution_count": 24,
     "metadata": {},
     "output_type": "execute_result"
    },
    {
     "data": {
      "image/png": "[encoded data removed]",
      "text/plain": [
       "<Figure size 432x288 with 1 Axes>"
      ]
     },
     "metadata": {
      "needs_background": "light"
     },
     "output_type": "display_data"
    }
   ],
   "source": [
    "sns.countplot(order[\"loop\"])"
   ]
  },
  {
   "cell_type": "code",
   "execution_count": 25,
   "metadata": {},
   "outputs": [
    {
     "data": {
      "text/plain": [
       "<matplotlib.axes._subplots.AxesSubplot at 0x1a1d90cf10>"
      ]
     },
     "execution_count": 25,
     "metadata": {},
     "output_type": "execute_result"
    },
    {
     "data": {
      "image/png": "[encoded data removed]",
      "text/plain": [
       "<Figure size 432x288 with 1 Axes>"
      ]
     },
     "metadata": {
      "needs_background": "light"
     },
     "output_type": "display_data"
    }
   ],
   "source": [
    "sns.countplot(order[\"nodeName\"])"
   ]
  },
  {
   "cell_type": "code",
   "execution_count": 26,
   "metadata": {},
   "outputs": [],
   "source": [
    "categories = list(data_classes.iloc[:,1:2])\n"
   ]
  },
  {
   "cell_type": "code",
   "execution_count": null,
   "metadata": {},
   "outputs": [],
   "source": []
  },
  {
   "cell_type": "code",
   "execution_count": 27,
   "metadata": {},
   "outputs": [
    {
     "data": {
      "text/plain": [
       "0       0\n",
       "1      73\n",
       "2      20\n",
       "3      15\n",
       "4       6\n",
       "5      13\n",
       "6      25\n",
       "7      66\n",
       "8      33\n",
       "9      87\n",
       "10     17\n",
       "11     23\n",
       "12     19\n",
       "13     40\n",
       "14     30\n",
       "15     13\n",
       "16     21\n",
       "17     21\n",
       "18     13\n",
       "19     53\n",
       "20     30\n",
       "21     13\n",
       "22    227\n",
       "23     18\n",
       "24     49\n",
       "25     17\n",
       "26     13\n",
       "27     13\n",
       "28     15\n",
       "29     22\n",
       "30     23\n",
       "31     26\n",
       "32     17\n",
       "Name: visits, dtype: int64"
      ]
     },
     "execution_count": 27,
     "metadata": {},
     "output_type": "execute_result"
    }
   ],
   "source": [
    "data_classes['visits'].astype(int)"
   ]
  },
  {
   "cell_type": "code",
   "execution_count": 28,
   "metadata": {},
   "outputs": [],
   "source": [
    "vis = list(data_classes.iloc[:,2:3])\n"
   ]
  },
  {
   "cell_type": "code",
   "execution_count": 29,
   "metadata": {},
   "outputs": [
    {
     "name": "stdout",
     "output_type": "stream",
     "text": [
      "[1071]\n"
     ]
    }
   ],
   "source": [
    "print(data_classes.iloc[:,2:3].sum().values)"
   ]
  },
  {
   "cell_type": "code",
   "execution_count": null,
   "metadata": {},
   "outputs": [],
   "source": []
  },
  {
   "cell_type": "code",
   "execution_count": 31,
   "metadata": {},
   "outputs": [
    {
     "data": {
      "text/plain": [
       "<matplotlib.axes._subplots.AxesSubplot at 0x1a1e471550>"
      ]
     },
     "execution_count": 31,
     "metadata": {},
     "output_type": "execute_result"
    },
    {
     "data": {
      "image/png": "[encoded data removed]",
      "text/plain": [
       "<Figure size 432x288 with 1 Axes>"
      ]
     },
     "metadata": {
      "needs_background": "light"
     },
     "output_type": "display_data"
    }
   ],
   "source": [
    "#sns.barplot(x = 'nodeId',  y='loop', hue = 'nodeId', data = order,\n",
    "\n",
    "sns.barplot(x = 'nodeId',  y='hop', data = order,\n",
    "            palette = 'hls',\n",
    "            #order = ['male', 'female'],  \n",
    "            capsize = 0.05,             \n",
    "            saturation = 8,             \n",
    "            errcolor = 'gray', errwidth = 2,  \n",
    "            ci = 'sd'   \n",
    "            )"
   ]
  },
  {
   "cell_type": "code",
   "execution_count": null,
   "metadata": {},
   "outputs": [],
   "source": []
  },
  {
   "cell_type": "code",
   "execution_count": null,
   "metadata": {},
   "outputs": [],
   "source": []
  },
  {
   "cell_type": "code",
   "execution_count": 34,
   "metadata": {},
   "outputs": [],
   "source": [
    "import numpy as np #pacote numérico usado na maioria das aplicações python\n"
   ]
  },
  {
   "cell_type": "code",
   "execution_count": 35,
   "metadata": {},
   "outputs": [
    {
     "data": {
      "text/plain": [
       "<matplotlib.axes._subplots.AxesSubplot at 0x1a1f54b1d0>"
      ]
     },
     "execution_count": 35,
     "metadata": {},
     "output_type": "execute_result"
    },
    {
     "data": {
      "image/png": "[encoded data removed]",
      "text/plain": [
       "<Figure size 432x288 with 1 Axes>"
      ]
     },
     "metadata": {
      "needs_background": "light"
     },
     "output_type": "display_data"
    }
   ],
   "source": [
    "sns.countplot(x='nodeId', data=order[order.hop.isin([0])] )"
   ]
  },
  {
   "cell_type": "code",
   "execution_count": 43,
   "metadata": {},
   "outputs": [
    {
     "data": {
      "text/plain": [
       "<matplotlib.axes._subplots.AxesSubplot at 0x1a1fabc890>"
      ]
     },
     "execution_count": 43,
     "metadata": {},
     "output_type": "execute_result"
    },
    {
     "data": {
      "image/png": "[encoded data removed]",
      "text/plain": [
       "<Figure size 432x288 with 1 Axes>"
      ]
     },
     "metadata": {
      "needs_background": "light"
     },
     "output_type": "display_data"
    }
   ],
   "source": [
    "sns.countplot(x='nodeNumber', data=data_classes.query('visits > 21') ) #q75 node with more than 30 visits"
   ]
  },
  {
   "cell_type": "code",
   "execution_count": 45,
   "metadata": {},
   "outputs": [
    {
     "data": {
      "text/plain": [
       "<matplotlib.axes._subplots.AxesSubplot at 0x1a1fc8ff10>"
      ]
     },
     "execution_count": 45,
     "metadata": {},
     "output_type": "execute_result"
    },
    {
     "data": {
      "image/png": "[encoded data removed]",
      "text/plain": [
       "<Figure size 432x288 with 1 Axes>"
      ]
     },
     "metadata": {
      "needs_background": "light"
     },
     "output_type": "display_data"
    }
   ],
   "source": [
    "sns.countplot(x='nodeId', data=order.query('nodeId in [1,6,7,8,9,11,13,14,19,20,22,24,29,20,31]') ) #q75 node with more than 21 visits"
   ]
  },
  {
   "cell_type": "code",
   "execution_count": 46,
   "metadata": {},
   "outputs": [
    {
     "data": {
      "text/plain": [
       "<matplotlib.axes._subplots.AxesSubplot at 0x1a1fd87e10>"
      ]
     },
     "execution_count": 46,
     "metadata": {},
     "output_type": "execute_result"
    },
    {
     "data": {
      "image/png": "[encoded data removed]",
      "text/plain": [
       "<Figure size 432x288 with 1 Axes>"
      ]
     },
     "metadata": {
      "needs_background": "light"
     },
     "output_type": "display_data"
    }
   ],
   "source": [
    "sns.countplot(x='hop', data=order.query('nodeId in [1,6,7,8,9,11,13,14,19,20,22,24,29,20,31]') ) #q75 node with more than 21 visits"
   ]
  },
  {
   "cell_type": "code",
   "execution_count": 47,
   "metadata": {},
   "outputs": [
    {
     "data": {
      "text/plain": [
       "<matplotlib.axes._subplots.AxesSubplot at 0x1a1fd72d90>"
      ]
     },
     "execution_count": 47,
     "metadata": {},
     "output_type": "execute_result"
    },
    {
     "data": {
      "image/png": "[encoded data removed]",
      "text/plain": [
       "<Figure size 432x288 with 1 Axes>"
      ]
     },
     "metadata": {
      "needs_background": "light"
     },
     "output_type": "display_data"
    }
   ],
   "source": [
    "sns.distplot(visits_c,bins=30,kde=False)"
   ]
  },
  {
   "cell_type": "code",
   "execution_count": 48,
   "metadata": {},
   "outputs": [
    {
     "data": {
      "text/plain": [
       "<matplotlib.axes._subplots.AxesSubplot at 0x1a1ff1bd10>"
      ]
     },
     "execution_count": 48,
     "metadata": {},
     "output_type": "execute_result"
    },
    {
     "data": {
      "image/png": "[encoded data removed]",
      "text/plain": [
       "<Figure size 432x288 with 1 Axes>"
      ]
     },
     "metadata": {
      "needs_background": "light"
     },
     "output_type": "display_data"
    }
   ],
   "source": [
    "sns.distplot(visits_c, bins=20)"
   ]
  },
  {
   "cell_type": "code",
   "execution_count": 49,
   "metadata": {},
   "outputs": [
    {
     "data": {
      "image/png": "[encoded data removed]",
      "text/plain": [
       "<Figure size 432x432 with 3 Axes>"
      ]
     },
     "metadata": {
      "needs_background": "light"
     },
     "output_type": "display_data"
    }
   ],
   "source": [
    "sns.jointplot(x=\"nodeNumber\", y=\"visits\", data=data_classes);"
   ]
  },
  {
   "cell_type": "code",
   "execution_count": 50,
   "metadata": {},
   "outputs": [
    {
     "data": {
      "text/plain": [
       "dict_keys(['node_c', 'visit_c'])"
      ]
     },
     "execution_count": 50,
     "metadata": {},
     "output_type": "execute_result"
    }
   ],
   "source": [
    "fieldnames=data_conceitos.keys()\n",
    "fieldnames"
   ]
  },
  {
   "cell_type": "code",
   "execution_count": null,
   "metadata": {},
   "outputs": [],
   "source": []
  },
  {
   "cell_type": "code",
   "execution_count": null,
   "metadata": {},
   "outputs": [],
   "source": []
  },
  {
   "cell_type": "code",
   "execution_count": 51,
   "metadata": {},
   "outputs": [],
   "source": [
    "import pandas\n",
    "randomWalk = pandas.read_csv(\"./visits/data/visits_CMT.owl_class_500.csv\")"
   ]
  },
  {
   "cell_type": "code",
   "execution_count": 52,
   "metadata": {},
   "outputs": [
    {
     "data": {
      "text/html": [
       "<div>\n",
       "<style scoped>\n",
       "    .dataframe tbody tr th:only-of-type {\n",
       "        vertical-align: middle;\n",
       "    }\n",
       "\n",
       "    .dataframe tbody tr th {\n",
       "        vertical-align: top;\n",
       "    }\n",
       "\n",
       "    .dataframe thead th {\n",
       "        text-align: right;\n",
       "    }\n",
       "</style>\n",
       "<table border=\"1\" class=\"dataframe\">\n",
       "  <thead>\n",
       "    <tr style=\"text-align: right;\">\n",
       "      <th></th>\n",
       "      <th>nodeNumber</th>\n",
       "      <th>node</th>\n",
       "      <th>visits</th>\n",
       "      <th>paths</th>\n",
       "    </tr>\n",
       "  </thead>\n",
       "  <tbody>\n",
       "    <tr>\n",
       "      <th>0</th>\n",
       "      <td>0</td>\n",
       "      <td>Co-author</td>\n",
       "      <td>0</td>\n",
       "      <td></td>\n",
       "    </tr>\n",
       "    <tr>\n",
       "      <th>1</th>\n",
       "      <td>1</td>\n",
       "      <td>User</td>\n",
       "      <td>73</td>\n",
       "      <td>User Meta-Reviewer Reviewer User AuthorNotRe...</td>\n",
       "    </tr>\n",
       "    <tr>\n",
       "      <th>2</th>\n",
       "      <td>2</td>\n",
       "      <td>ProgramCommittee</td>\n",
       "      <td>20</td>\n",
       "      <td>ProgramCommittee ProgramCommittee ProgramCom...</td>\n",
       "    </tr>\n",
       "    <tr>\n",
       "      <th>3</th>\n",
       "      <td>3</td>\n",
       "      <td>AuthorNotReviewer</td>\n",
       "      <td>15</td>\n",
       "      <td>AuthorNotReviewer AuthorNotReviewer AuthorNo...</td>\n",
       "    </tr>\n",
       "    <tr>\n",
       "      <th>4</th>\n",
       "      <td>4</td>\n",
       "      <td>Conference</td>\n",
       "      <td>6</td>\n",
       "      <td>Conference Conference Conference Conference ...</td>\n",
       "    </tr>\n",
       "  </tbody>\n",
       "</table>\n",
       "</div>"
      ],
      "text/plain": [
       "   nodeNumber               node  visits  \\\n",
       "0           0          Co-author       0   \n",
       "1           1               User      73   \n",
       "2           2   ProgramCommittee      20   \n",
       "3           3  AuthorNotReviewer      15   \n",
       "4           4         Conference       6   \n",
       "\n",
       "                                               paths  \n",
       "0                                                     \n",
       "1    User Meta-Reviewer Reviewer User AuthorNotRe...  \n",
       "2    ProgramCommittee ProgramCommittee ProgramCom...  \n",
       "3    AuthorNotReviewer AuthorNotReviewer AuthorNo...  \n",
       "4    Conference Conference Conference Conference ...  "
      ]
     },
     "execution_count": 52,
     "metadata": {},
     "output_type": "execute_result"
    }
   ],
   "source": [
    "randomWalk.head()"
   ]
  },
  {
   "cell_type": "code",
   "execution_count": 53,
   "metadata": {},
   "outputs": [
    {
     "data": {
      "text/plain": [
       "32.45454545454545"
      ]
     },
     "execution_count": 53,
     "metadata": {},
     "output_type": "execute_result"
    }
   ],
   "source": [
    "randomWalk.visits.mean()"
   ]
  },
  {
   "cell_type": "code",
   "execution_count": 54,
   "metadata": {},
   "outputs": [
    {
     "data": {
      "text/plain": [
       "count     33.000000\n",
       "mean      32.454545\n",
       "std       39.882712\n",
       "min        0.000000\n",
       "25%       15.000000\n",
       "50%       21.000000\n",
       "75%       30.000000\n",
       "max      227.000000\n",
       "Name: visits, dtype: float64"
      ]
     },
     "execution_count": 54,
     "metadata": {},
     "output_type": "execute_result"
    }
   ],
   "source": [
    "randomWalk.visits.describe()"
   ]
  },
  {
   "cell_type": "code",
   "execution_count": 55,
   "metadata": {},
   "outputs": [
    {
     "data": {
      "text/plain": [
       "nodeNumber     8.0\n",
       "visits        15.0\n",
       "Name: 0.25, dtype: float64"
      ]
     },
     "execution_count": 55,
     "metadata": {},
     "output_type": "execute_result"
    }
   ],
   "source": [
    "q25 = randomWalk.quantile(0.25)\n",
    "q25"
   ]
  },
  {
   "cell_type": "code",
   "execution_count": 56,
   "metadata": {},
   "outputs": [
    {
     "data": {
      "text/plain": [
       "nodeNumber    24.0\n",
       "visits        30.0\n",
       "Name: 0.75, dtype: float64"
      ]
     },
     "execution_count": 56,
     "metadata": {},
     "output_type": "execute_result"
    }
   ],
   "source": [
    "q75 = randomWalk.quantile(0.75)\n",
    "q75"
   ]
  },
  {
   "cell_type": "code",
   "execution_count": 57,
   "metadata": {},
   "outputs": [
    {
     "data": {
      "text/plain": [
       "21.0"
      ]
     },
     "execution_count": 57,
     "metadata": {},
     "output_type": "execute_result"
    }
   ],
   "source": [
    "np.median(randomWalk['visits'])"
   ]
  },
  {
   "cell_type": "code",
   "execution_count": 58,
   "metadata": {},
   "outputs": [
    {
     "data": {
      "text/plain": [
       "<matplotlib.axes._subplots.AxesSubplot at 0x1a202bcb90>"
      ]
     },
     "execution_count": 58,
     "metadata": {},
     "output_type": "execute_result"
    },
    {
     "data": {
      "image/png": "[encoded data removed]",
      "text/plain": [
       "<Figure size 432x288 with 1 Axes>"
      ]
     },
     "metadata": {
      "needs_background": "light"
     },
     "output_type": "display_data"
    }
   ],
   "source": [
    "sns.boxplot(randomWalk.visits)"
   ]
  },
  {
   "cell_type": "code",
   "execution_count": 59,
   "metadata": {},
   "outputs": [
    {
     "data": {
      "text/plain": [
       "<matplotlib.axes._subplots.AxesSubplot at 0x1a20304d50>"
      ]
     },
     "execution_count": 59,
     "metadata": {},
     "output_type": "execute_result"
    },
    {
     "data": {
      "image/png": "[encoded data removed]",
      "text/plain": [
       "<Figure size 432x288 with 1 Axes>"
      ]
     },
     "metadata": {
      "needs_background": "light"
     },
     "output_type": "display_data"
    }
   ],
   "source": [
    "sns.swarmplot(randomWalk['visits'], orient=\"v\")"
   ]
  },
  {
   "cell_type": "code",
   "execution_count": 60,
   "metadata": {},
   "outputs": [
    {
     "data": {
      "text/plain": [
       "<matplotlib.axes._subplots.AxesSubplot at 0x1a204b7190>"
      ]
     },
     "execution_count": 60,
     "metadata": {},
     "output_type": "execute_result"
    },
    {
     "data": {
      "image/png": "[encoded data removed]",
      "text/plain": [
       "<Figure size 432x288 with 1 Axes>"
      ]
     },
     "metadata": {
      "needs_background": "light"
     },
     "output_type": "display_data"
    }
   ],
   "source": [
    "sns.violinplot(randomWalk['visits'], orient=\"v\")"
   ]
  },
  {
   "cell_type": "code",
   "execution_count": 61,
   "metadata": {},
   "outputs": [
    {
     "data": {
      "text/plain": [
       "<matplotlib.axes._subplots.AxesSubplot at 0x1a20570f10>"
      ]
     },
     "execution_count": 61,
     "metadata": {},
     "output_type": "execute_result"
    },
    {
     "data": {
      "image/png": "[encoded data removed]",
      "text/plain": [
       "<Figure size 432x288 with 1 Axes>"
      ]
     },
     "metadata": {
      "needs_background": "light"
     },
     "output_type": "display_data"
    }
   ],
   "source": [
    "sns.swarmplot(randomWalk['visits'], orient=\"v\")\n",
    "sns.boxplot(randomWalk.visits, orient=\"v\", color=\"red\")"
   ]
  },
  {
   "cell_type": "code",
   "execution_count": 62,
   "metadata": {},
   "outputs": [
    {
     "data": {
      "text/plain": [
       "<seaborn.axisgrid.FacetGrid at 0x1a206511d0>"
      ]
     },
     "execution_count": 62,
     "metadata": {},
     "output_type": "execute_result"
    },
    {
     "data": {
      "image/png": "[encoded data removed]",
      "text/plain": [
       "<Figure size 360x360 with 1 Axes>"
      ]
     },
     "metadata": {
      "needs_background": "light"
     },
     "output_type": "display_data"
    }
   ],
   "source": [
    "sns.lmplot( y=\"visits\", x=\"nodeNumber\", data=randomWalk, fit_reg=False)"
   ]
  },
  {
   "cell_type": "code",
   "execution_count": 63,
   "metadata": {},
   "outputs": [
    {
     "data": {
      "text/plain": [
       "<matplotlib.axes._subplots.AxesSubplot at 0x1a1f793750>"
      ]
     },
     "execution_count": 63,
     "metadata": {},
     "output_type": "execute_result"
    },
    {
     "data": {
      "image/png": "[encoded data removed]",
      "text/plain": [
       "<Figure size 432x288 with 1 Axes>"
      ]
     },
     "metadata": {
      "needs_background": "light"
     },
     "output_type": "display_data"
    }
   ],
   "source": [
    "randomWalk.visits.hist(bins=80)\n"
   ]
  },
  {
   "cell_type": "code",
   "execution_count": 64,
   "metadata": {},
   "outputs": [
    {
     "data": {
      "text/plain": [
       "0    13\n",
       "dtype: int64"
      ]
     },
     "execution_count": 64,
     "metadata": {},
     "output_type": "execute_result"
    }
   ],
   "source": [
    "randomWalk.visits.mode()"
   ]
  },
  {
   "cell_type": "code",
   "execution_count": 65,
   "metadata": {},
   "outputs": [],
   "source": [
    "def assimetria(coluna):\n",
    "    moda = coluna.mode()[0]\n",
    "    media = coluna.mean()\n",
    "    mediana = coluna.median()\n",
    "    if (media < mediana < moda):\n",
    "        print(\"negativo\")\n",
    "    elif (media > mediana > moda):\n",
    "        print(\"positivo\")\n",
    "    else:\n",
    "        print(\"simetrico\")"
   ]
  },
  {
   "cell_type": "code",
   "execution_count": 66,
   "metadata": {},
   "outputs": [
    {
     "name": "stdout",
     "output_type": "stream",
     "text": [
      "positivo\n"
     ]
    }
   ],
   "source": [
    "assimetria(randomWalk.visits)"
   ]
  },
  {
   "cell_type": "code",
   "execution_count": 67,
   "metadata": {},
   "outputs": [
    {
     "data": {
      "text/plain": [
       "<matplotlib.axes._subplots.AxesSubplot at 0x1a20947350>"
      ]
     },
     "execution_count": 67,
     "metadata": {},
     "output_type": "execute_result"
    },
    {
     "data": {
      "image/png": "[encoded data removed]",
      "text/plain": [
       "<Figure size 432x288 with 1 Axes>"
      ]
     },
     "metadata": {
      "needs_background": "light"
     },
     "output_type": "display_data"
    }
   ],
   "source": [
    "sns.distplot(randomWalk.visits, bins=80)"
   ]
  },
  {
   "cell_type": "code",
   "execution_count": 68,
   "metadata": {},
   "outputs": [
    {
     "data": {
      "text/plain": [
       "227"
      ]
     },
     "execution_count": 68,
     "metadata": {},
     "output_type": "execute_result"
    }
   ],
   "source": [
    "randomWalk.visits.max() - randomWalk.visits.min()"
   ]
  },
  {
   "cell_type": "code",
   "execution_count": 69,
   "metadata": {},
   "outputs": [],
   "source": [
    "def variancia(lista):\n",
    "    n = len(lista)\n",
    "    mu = np.mean(lista)\n",
    "    numerador = 0\n",
    "    for i in lista:\n",
    "        numerador += (i - mu)**2\n",
    "    return numerador/n"
   ]
  },
  {
   "cell_type": "code",
   "execution_count": null,
   "metadata": {},
   "outputs": [],
   "source": []
  },
  {
   "cell_type": "code",
   "execution_count": 70,
   "metadata": {},
   "outputs": [
    {
     "data": {
      "text/plain": [
       "1542.429752066116"
      ]
     },
     "execution_count": 70,
     "metadata": {},
     "output_type": "execute_result"
    }
   ],
   "source": [
    "variancia(randomWalk.visits)"
   ]
  },
  {
   "cell_type": "code",
   "execution_count": 71,
   "metadata": {},
   "outputs": [
    {
     "data": {
      "text/plain": [
       "1590.630681818182"
      ]
     },
     "execution_count": 71,
     "metadata": {},
     "output_type": "execute_result"
    }
   ],
   "source": [
    "randomWalk.visits.var()"
   ]
  },
  {
   "cell_type": "code",
   "execution_count": 72,
   "metadata": {},
   "outputs": [
    {
     "data": {
      "text/plain": [
       "<matplotlib.axes._subplots.AxesSubplot at 0x1a20b70d90>"
      ]
     },
     "execution_count": 72,
     "metadata": {},
     "output_type": "execute_result"
    },
    {
     "data": {
      "image/png": "[encoded data removed]",
      "text/plain": [
       "<Figure size 432x288 with 1 Axes>"
      ]
     },
     "metadata": {
      "needs_background": "light"
     },
     "output_type": "display_data"
    }
   ],
   "source": [
    "sns.distplot(randomWalk.visits, hist=False)"
   ]
  },
  {
   "cell_type": "code",
   "execution_count": 73,
   "metadata": {},
   "outputs": [
    {
     "data": {
      "text/plain": [
       "39.88271156551648"
      ]
     },
     "execution_count": 73,
     "metadata": {},
     "output_type": "execute_result"
    }
   ],
   "source": [
    "randomWalk.visits.std()"
   ]
  },
  {
   "cell_type": "code",
   "execution_count": null,
   "metadata": {},
   "outputs": [],
   "source": []
  },
  {
   "cell_type": "code",
   "execution_count": null,
   "metadata": {},
   "outputs": [],
   "source": []
  },
  {
   "cell_type": "code",
   "execution_count": null,
   "metadata": {},
   "outputs": [],
   "source": []
  },
  {
   "cell_type": "code",
   "execution_count": null,
   "metadata": {},
   "outputs": [],
   "source": [
    "\n"
   ]
  },
  {
   "cell_type": "code",
   "execution_count": 80,
   "metadata": {},
   "outputs": [],
   "source": [
    "import pandas as pd\n",
    "import numpy as np\n",
    "import csv \n",
    "import string\n",
    "import nltk \n",
    "import re \n",
    "import time\n",
    "from sklearn.feature_extraction.text import CountVectorizer, TfidfVectorizer \n",
    "from nltk.corpus import stopwords \n",
    "from nltk.tokenize import word_tokenize \n",
    "import os\n",
    "import matplotlib.pyplot as plt\n",
    "import seaborn as sns\n",
    "from nltk.corpus import stopwords\n",
    "from nltk.stem.snowball import SnowballStemmer\n",
    "from sklearn.feature_extraction.text import CountVectorizer\n",
    "import sys\n",
    "import warnings\n",
    "from os import path\n",
    "import ast\n",
    "from PIL import Image\n",
    "from wordcloud import WordCloud, STOPWORDS, ImageColorGenerator\n",
    "from sklearn.model_selection import train_test_split\n",
    "from sklearn.feature_extraction.text import TfidfVectorizer\n",
    "from skmultilearn.problem_transform import BinaryRelevance\n",
    "from skmultilearn.problem_transform import LabelPowerset\n",
    "from skmultilearn.problem_transform import ClassifierChain\n",
    "from sklearn.preprocessing import MultiLabelBinarizer\n",
    "from sklearn.tree import DecisionTreeClassifier\n",
    "from sklearn.metrics import f1_score, average_precision_score, precision_recall_fscore_support\n",
    "from sklearn.metrics import accuracy_score\n",
    "from sklearn.metrics import multilabel_confusion_matrix\n",
    "from sklearn.metrics import accuracy_score\n",
    "from sklearn.metrics import zero_one_loss\n",
    "from sklearn.metrics import jaccard_score\n",
    "import sklearn.metrics as skm\n",
    "from sklearn.model_selection import train_test_split\n",
    "from sklearn.metrics import mean_squared_error\n",
    "from math import sqrt\n",
    "import numpy as np\n",
    "from sklearn.multiclass import OneVsRestClassifier\n",
    "from sklearn.neighbors import KNeighborsClassifier\n",
    "from sklearn.model_selection import cross_val_score\n",
    "from sklearn.model_selection import KFold\n",
    "import time\n",
    "from sklearn.model_selection import ShuffleSplit\n",
    "from sklearn.model_selection import StratifiedKFold\n",
    "from sklearn import model_selection\n",
    "from sklearn.linear_model import LogisticRegression\n",
    "from sklearn.metrics import precision_recall_curve\n",
    "from sklearn.metrics import average_precision_score\n",
    "from skmultilearn.adapt import MLkNN\n",
    "from sklearn.model_selection import GridSearchCV\n",
    "from sklearn.svm import LinearSVC\n",
    "from sklearn.neural_network import MLPClassifier\n",
    "from sklearn.ensemble import RandomForestClassifier\n",
    "from sklearn.naive_bayes import GaussianNB\n",
    "from skmultilearn.adapt import BRkNNaClassifier\n",
    "from sklearn.linear_model import RidgeClassifierCV\n",
    "\n",
    "pd.options.display.max_seq_items = 2000\n",
    "pd.options.display.max_colwidth = 90\n",
    "pd.options.display.max_rows = 999\n",
    "\n",
    "loggingFile = './experiment//TitleBody3GramTFIDF.txt'\n",
    "binaryBodyTitle = './experiment/binaryBodyTitle.csv'\n",
    "template = './experiment/dfTeste.csv'"
   ]
  },
  {
   "cell_type": "code",
   "execution_count": 81,
   "metadata": {},
   "outputs": [
    {
     "data": {
      "text/html": [
       "<div>\n",
       "<style scoped>\n",
       "    .dataframe tbody tr th:only-of-type {\n",
       "        vertical-align: middle;\n",
       "    }\n",
       "\n",
       "    .dataframe tbody tr th {\n",
       "        vertical-align: top;\n",
       "    }\n",
       "\n",
       "    .dataframe thead th {\n",
       "        text-align: right;\n",
       "    }\n",
       "</style>\n",
       "<table border=\"1\" class=\"dataframe\">\n",
       "  <thead>\n",
       "    <tr style=\"text-align: right;\">\n",
       "      <th></th>\n",
       "      <th>nodeNumber</th>\n",
       "      <th>node</th>\n",
       "      <th>visits</th>\n",
       "      <th>paths</th>\n",
       "    </tr>\n",
       "  </thead>\n",
       "  <tbody>\n",
       "    <tr>\n",
       "      <th>0</th>\n",
       "      <td>0</td>\n",
       "      <td>Co-author</td>\n",
       "      <td>0</td>\n",
       "      <td></td>\n",
       "    </tr>\n",
       "    <tr>\n",
       "      <th>1</th>\n",
       "      <td>1</td>\n",
       "      <td>User</td>\n",
       "      <td>73</td>\n",
       "      <td>User Meta-Reviewer Reviewer User AuthorNotReviewer Author User Author User Administr...</td>\n",
       "    </tr>\n",
       "    <tr>\n",
       "      <th>2</th>\n",
       "      <td>2</td>\n",
       "      <td>ProgramCommittee</td>\n",
       "      <td>20</td>\n",
       "      <td>ProgramCommittee ProgramCommittee ProgramCommittee ProgramCommittee ProgramCommittee...</td>\n",
       "    </tr>\n",
       "    <tr>\n",
       "      <th>3</th>\n",
       "      <td>3</td>\n",
       "      <td>AuthorNotReviewer</td>\n",
       "      <td>15</td>\n",
       "      <td>AuthorNotReviewer AuthorNotReviewer AuthorNotReviewer AuthorNotReviewer AuthorNotRev...</td>\n",
       "    </tr>\n",
       "    <tr>\n",
       "      <th>4</th>\n",
       "      <td>4</td>\n",
       "      <td>Conference</td>\n",
       "      <td>6</td>\n",
       "      <td>Conference Conference Conference Conference Conference Conference</td>\n",
       "    </tr>\n",
       "  </tbody>\n",
       "</table>\n",
       "</div>"
      ],
      "text/plain": [
       "   nodeNumber               node  visits  \\\n",
       "0           0          Co-author       0   \n",
       "1           1               User      73   \n",
       "2           2   ProgramCommittee      20   \n",
       "3           3  AuthorNotReviewer      15   \n",
       "4           4         Conference       6   \n",
       "\n",
       "                                                                                       paths  \n",
       "0                                                                                             \n",
       "1    User Meta-Reviewer Reviewer User AuthorNotReviewer Author User Author User Administr...  \n",
       "2    ProgramCommittee ProgramCommittee ProgramCommittee ProgramCommittee ProgramCommittee...  \n",
       "3    AuthorNotReviewer AuthorNotReviewer AuthorNotReviewer AuthorNotReviewer AuthorNotRev...  \n",
       "4                          Conference Conference Conference Conference Conference Conference  "
      ]
     },
     "execution_count": 81,
     "metadata": {},
     "output_type": "execute_result"
    }
   ],
   "source": [
    "data_classes.head()"
   ]
  },
  {
   "cell_type": "code",
   "execution_count": 82,
   "metadata": {},
   "outputs": [],
   "source": [
    "#TF-ID\n",
    "def run_tf_idf(data, configurationTFIDF, num_feature, tfIDFoutputFile):\n",
    "    #we need to text max_feature with 10, 20, 25, 50 \n",
    "    #, max_features=num_feature\n",
    "    vectorizer = TfidfVectorizer(strip_accents='unicode', analyzer='word', ngram_range = configurationTFIDF, max_features=num_feature)\n",
    "        \n",
    "    tf_idf_results = vectorizer.fit_transform(data['paths'])\n",
    "\n",
    "    features = vectorizer.get_feature_names()\n",
    "\n",
    "    print(features)\n",
    "\n",
    "    scores = (tf_idf_results.toarray())\n",
    "    output_tf_idf = pd.DataFrame(scores)\n",
    "    \n",
    "    output_tf_idf = pd.concat([data['nodeNumber'], output_tf_idf], axis=1)\n",
    "\n",
    "    output_tf_idf.to_csv(tfIDFoutputFile, encoding='utf-8', header=False, index=False, sep=',')\n",
    "\n",
    "\n",
    "    # remove words occuring less than 5 times\n",
    "    #tfidf = TfidfVectorizer(min_df=5)\n",
    "    #you can also remove common words:\n",
    "\n",
    "    # remove words occuring in more than half the documents\n",
    "    #tfidf = TfidfVectorizer(max_df=0.5)\n",
    "    #you can also remove stopwords like this:\n",
    "    "
   ]
  },
  {
   "cell_type": "code",
   "execution_count": 87,
   "metadata": {},
   "outputs": [
    {
     "name": "stdout",
     "output_type": "stream",
     "text": [
      "['acceptance', 'administrator', 'associatedchair', 'author', 'authornotreviewer', 'chairman', 'conferencechair', 'conferencemember', 'decision', 'document', 'externalreviewer', 'hasdecision', 'meta', 'owl', 'paper', 'paperabstract', 'paperfullversion', 'person', 'programcommitteechair', 'programcommitteemember', 'rejection', 'review', 'reviewer', 'thing', 'user']\n"
     ]
    }
   ],
   "source": [
    "run_tf_idf(data_classes, (1,1), 25, './visits/data/tfIDFCMT.csv')"
   ]
  },
  {
   "cell_type": "code",
   "execution_count": 84,
   "metadata": {},
   "outputs": [],
   "source": [
    "#analyzing frequency of TOP 50 terms\n",
    "\n",
    "def analyze_top(data, termFrequencyTop50):\n",
    "    docs = data['paths'].tolist()\n",
    "\n",
    "    cv = CountVectorizer()\n",
    "    cv_fit=cv.fit_transform(docs)\n",
    "\n",
    "    #print(cv.get_feature_names())\n",
    "    #print(cv_fit.toarray())\n",
    "\n",
    "    word_list = cv.get_feature_names()   \n",
    "\n",
    "    count_list = cv_fit.toarray().sum(axis=0)\n",
    "    term_frequency = dict(zip(word_list,count_list))\n",
    "\n",
    "    a = sorted(term_frequency.items(), key=lambda x: x[1], reverse=True) \n",
    "\n",
    "    top50 = a[:100]\n",
    "    df_frequency = pd.DataFrame(top50, columns =['term', 'frequency'])  \n",
    "\n",
    "    print(df_frequency)\n",
    "\n",
    "    df_frequency.to_csv(termFrequencyTop50, encoding='utf-8', header=False, index=False, sep=',')\n",
    "\n",
    "    sns.set(font_scale = 2)\n",
    "    plt.figure(figsize=(18,17))\n",
    "    plt.xticks(rotation=90)\n",
    "    plt.title(\"Frequency of terms \")\n",
    "    plt.ylabel('term', fontsize=20)\n",
    "    plt.xlabel('frequency', fontsize=20)\n",
    "    ax = sns.barplot(x=\"frequency\", y=\"term\", data=df_frequency)\n",
    "    \n",
    "    return docs\n"
   ]
  },
  {
   "cell_type": "code",
   "execution_count": 88,
   "metadata": {},
   "outputs": [
    {
     "name": "stdout",
     "output_type": "stream",
     "text": [
      "                      term  frequency\n",
      "0                   person        227\n",
      "1         conferencemember        174\n",
      "2                 reviewer        159\n",
      "3                     user        146\n",
      "4                   review        143\n",
      "5                     meta        115\n",
      "6                    paper        106\n",
      "7                   author         90\n",
      "8                      owl         88\n",
      "9                    thing         88\n",
      "10  programcommitteemember         79\n",
      "11        paperfullversion         75\n",
      "12           administrator         69\n",
      "13                document         66\n",
      "14   programcommitteechair         66\n",
      "15       authornotreviewer         60\n",
      "16         conferencechair         51\n",
      "17                decision         49\n",
      "18             hasdecision         48\n",
      "19           paperabstract         45\n",
      "20        externalreviewer         42\n",
      "21         associatedchair         39\n",
      "22              acceptance         34\n",
      "23                chairman         26\n",
      "24               rejection         26\n",
      "25          readbyreviewer         23\n",
      "26        programcommittee         20\n",
      "27              preference         18\n",
      "28              readbymeta         17\n",
      "29                     bid         13\n",
      "30             subjectarea         13\n",
      "31              conference          6\n"
     ]
    },
    {
     "data": {
      "image/png": "[encoded data removed]",
      "text/plain": [
       "<Figure size 1296x1224 with 1 Axes>"
      ]
     },
     "metadata": {},
     "output_type": "display_data"
    }
   ],
   "source": [
    "docs = analyze_top(data_classes, './visits/data/termFrequencyTop50CMT.csv')"
   ]
  },
  {
   "cell_type": "code",
   "execution_count": null,
   "metadata": {},
   "outputs": [],
   "source": []
  },
  {
   "cell_type": "code",
   "execution_count": null,
   "metadata": {},
   "outputs": [],
   "source": []
  },
  {
   "cell_type": "code",
   "execution_count": null,
   "metadata": {},
   "outputs": [],
   "source": []
  },
  {
   "cell_type": "code",
   "execution_count": null,
   "metadata": {},
   "outputs": [],
   "source": []
  },
  {
   "cell_type": "code",
   "execution_count": null,
   "metadata": {},
   "outputs": [],
   "source": []
  },
  {
   "cell_type": "code",
   "execution_count": null,
   "metadata": {},
   "outputs": [],
   "source": []
  },
  {
   "cell_type": "code",
   "execution_count": null,
   "metadata": {},
   "outputs": [],
   "source": []
  },
  {
   "cell_type": "code",
   "execution_count": null,
   "metadata": {},
   "outputs": [],
   "source": []
  },
  {
   "cell_type": "code",
   "execution_count": null,
   "metadata": {},
   "outputs": [],
   "source": []
  },
  {
   "cell_type": "code",
   "execution_count": null,
   "metadata": {},
   "outputs": [],
   "source": []
  },
  {
   "cell_type": "code",
   "execution_count": null,
   "metadata": {},
   "outputs": [],
   "source": []
  },
  {
   "cell_type": "code",
   "execution_count": null,
   "metadata": {},
   "outputs": [],
   "source": []
  },
  {
   "cell_type": "code",
   "execution_count": null,
   "metadata": {},
   "outputs": [],
   "source": []
  },
  {
   "cell_type": "code",
   "execution_count": null,
   "metadata": {},
   "outputs": [],
   "source": []
  },
  {
   "cell_type": "code",
   "execution_count": null,
   "metadata": {},
   "outputs": [],
   "source": []
  },
  {
   "cell_type": "code",
   "execution_count": null,
   "metadata": {},
   "outputs": [],
   "source": []
  }
 ],
 "metadata": {
  "kernelspec": {
   "display_name": "Python 3",
   "language": "python",
   "name": "python3"
  },
  "language_info": {
   "codemirror_mode": {
    "name": "ipython",
    "version": 3
   },
   "file_extension": ".py",
   "mimetype": "text/x-python",
   "name": "python",
   "nbconvert_exporter": "python",
   "pygments_lexer": "ipython3",
   "version": "3.7.6"
  }
 },
 "nbformat": 4,
 "nbformat_minor": 2
}
